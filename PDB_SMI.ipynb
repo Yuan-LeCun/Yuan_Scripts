{
 "cells": [
  {
   "cell_type": "code",
   "execution_count": 12,
   "metadata": {},
   "outputs": [],
   "source": [
    "from rdkit import Chem\n",
    "\n",
    "# 读取Screening.txt文件\n",
    "with open('Screening.txt', 'r') as f:\n",
    "    lines = f.readlines()\n",
    "    lines = [line.strip() for line in lines]\n",
    "\n",
    "# 打开result.txt文件用于写入\n",
    "with open('result.txt', 'w') as result_file:\n",
    "    for pdb_filename in lines:\n",
    "        if pdb_filename.endswith('.pdb'):\n",
    "            # 读取PDB文件内容\n",
    "            with open(pdb_filename, 'r') as pdb_file:\n",
    "                pdb_content = pdb_file.read()\n",
    "            \n",
    "            # 将PDB内容转换为RDKit分子对象\n",
    "            rdkit_mol = Chem.MolFromPDBBlock(pdb_content)\n",
    "            \n",
    "            if rdkit_mol is not None:\n",
    "                # 将RDKit分子对象转换为SMILES格式\n",
    "                smiles = Chem.MolToSmiles(rdkit_mol)\n",
    "                # 将SMILES写入result.txt文件\n",
    "                result_file.write(f\"{pdb_filename}: {smiles}\\n\")\n",
    "            else:\n",
    "                result_file.write(f\"{pdb_filename}: Conversion failed\\n\")"
   ]
  }
 ],
 "metadata": {
  "kernelspec": {
   "display_name": "pymatgen",
   "language": "python",
   "name": "python3"
  },
  "language_info": {
   "codemirror_mode": {
    "name": "ipython",
    "version": 3
   },
   "file_extension": ".py",
   "mimetype": "text/x-python",
   "name": "python",
   "nbconvert_exporter": "python",
   "pygments_lexer": "ipython3",
   "version": "3.10.15"
  }
 },
 "nbformat": 4,
 "nbformat_minor": 2
}
