{
 "cells": [
  {
   "cell_type": "code",
   "execution_count": 1,
   "metadata": {},
   "outputs": [],
   "source": [
    "USER_API_KEY = \"SWt9OtcNKRv9RTetLoGPg9MsmQco0o66\""
   ]
  },
  {
   "cell_type": "code",
   "execution_count": 2,
   "metadata": {},
   "outputs": [],
   "source": [
    "import numpy as np  \n",
    "from pymatgen.ext.matproj import MPRester\n",
    "from pymatgen.apps.borg.hive import VaspToComputedEntryDrone\n",
    "from pymatgen.apps.borg.queen import BorgQueen\n",
    "from pymatgen.entries.compatibility import MaterialsProjectCompatibility\n",
    "from pymatgen.analysis.phase_diagram import PhaseDiagram, PDPlotter\n",
    "\n",
    "drone = VaspToComputedEntryDrone()\n",
    "queen = BorgQueen(drone, rootpath=\".\")\n",
    "entries = queen.get_data()"
   ]
  },
  {
   "cell_type": "code",
   "execution_count": 3,
   "metadata": {},
   "outputs": [
    {
     "name": "stderr",
     "output_type": "stream",
     "text": [
      "C:\\Users\\Administrator\\AppData\\Roaming\\Python\\Python310\\site-packages\\paramiko\\pkey.py:100: CryptographyDeprecationWarning: TripleDES has been moved to cryptography.hazmat.decrepit.ciphers.algorithms.TripleDES and will be removed from this module in 48.0.0.\n",
      "  \"cipher\": algorithms.TripleDES,\n",
      "C:\\Users\\Administrator\\AppData\\Roaming\\Python\\Python310\\site-packages\\paramiko\\transport.py:259: CryptographyDeprecationWarning: TripleDES has been moved to cryptography.hazmat.decrepit.ciphers.algorithms.TripleDES and will be removed from this module in 48.0.0.\n",
      "  \"class\": algorithms.TripleDES,\n",
      "c:\\Users\\Administrator\\.conda\\envs\\pymatgen\\lib\\site-packages\\tqdm\\auto.py:21: TqdmWarning: IProgress not found. Please update jupyter and ipywidgets. See https://ipywidgets.readthedocs.io/en/stable/user_install.html\n",
      "  from .autonotebook import tqdm as notebook_tqdm\n",
      "Retrieving ThermoDoc documents: 100%|██████████| 378/378 [00:00<?, ?it/s]\n"
     ]
    }
   ],
   "source": [
    "with MPRester(USER_API_KEY) as mpr:\n",
    "    mp_entries = mpr.get_entries_in_chemsys(['Li', 'Fe', 'O'])  \n",
    "\n"
   ]
  },
  {
   "cell_type": "code",
   "execution_count": 4,
   "metadata": {},
   "outputs": [
    {
     "data": {
      "application/vnd.plotly.v1+json": {
       "config": {
        "plotlyServerURL": "https://plot.ly"
       },
       "data": [
        {
         "a": [
          0,
          0,
          null,
          2,
          0,
          null,
          0,
          0,
          null,
          4,
          40,
          null,
          4,
          8,
          null,
          0,
          1,
          null,
          0,
          3,
          null,
          2,
          40,
          null,
          1,
          8,
          null,
          0,
          4,
          null,
          8,
          0,
          null,
          0,
          8,
          null,
          8,
          40,
          null,
          2,
          8,
          null,
          1,
          4,
          null,
          1,
          0,
          null,
          4,
          40,
          null,
          0,
          0,
          null,
          1,
          4,
          null,
          2,
          3,
          null,
          2,
          4,
          null,
          8,
          40,
          null,
          4,
          8,
          null,
          4,
          8,
          null,
          0,
          4,
          null,
          0,
          0,
          null,
          0,
          4,
          null
         ],
         "b": [
          4,
          1,
          null,
          0,
          1,
          null,
          4,
          6,
          null,
          0,
          8,
          null,
          4,
          4,
          null,
          4,
          0,
          null,
          1,
          0,
          null,
          0,
          8,
          null,
          0,
          4,
          null,
          4,
          4,
          null,
          4,
          1,
          null,
          4,
          4,
          null,
          4,
          8,
          null,
          0,
          4,
          null,
          0,
          4,
          null,
          0,
          0,
          null,
          4,
          8,
          null,
          4,
          6,
          null,
          0,
          0,
          null,
          0,
          0,
          null,
          0,
          0,
          null,
          4,
          8,
          null,
          0,
          4,
          null,
          4,
          4,
          null,
          4,
          4,
          null,
          4,
          0,
          null,
          6,
          4,
          null
         ],
         "c": [
          4,
          0,
          null,
          1,
          0,
          null,
          4,
          8,
          null,
          4,
          32,
          null,
          8,
          8,
          null,
          6,
          8,
          null,
          0,
          0,
          null,
          1,
          32,
          null,
          8,
          12,
          null,
          4,
          8,
          null,
          8,
          0,
          null,
          4,
          8,
          null,
          8,
          32,
          null,
          1,
          8,
          null,
          8,
          8,
          null,
          8,
          8,
          null,
          8,
          32,
          null,
          6,
          8,
          null,
          8,
          4,
          null,
          1,
          0,
          null,
          1,
          4,
          null,
          12,
          32,
          null,
          4,
          12,
          null,
          8,
          12,
          null,
          6,
          8,
          null,
          6,
          8,
          null,
          8,
          8,
          null
         ],
         "hoverinfo": "none",
         "line": {
          "color": "black",
          "width": 1.5
         },
         "mode": "lines",
         "showlegend": false,
         "type": "scatterternary"
        },
        {
         "a": [
          0,
          1,
          0
         ],
         "b": [
          4,
          0,
          0
         ],
         "c": [
          6,
          8,
          8
         ],
         "fill": "toself",
         "fillcolor": "#2E91E5",
         "hovertemplate": "<extra></extra>",
         "line": {
          "width": 0
         },
         "mode": "lines",
         "name": "Fe<sub>2</sub>O<sub>3</sub>—LiO<sub>8</sub>—O<sub>2</sub>",
         "opacity": 0.15,
         "showlegend": false,
         "type": "scatterternary"
        },
        {
         "a": [
          0,
          3,
          2
         ],
         "b": [
          1,
          0,
          0
         ],
         "c": [
          0,
          0,
          1
         ],
         "fill": "toself",
         "fillcolor": "#E15F99",
         "hovertemplate": "<extra></extra>",
         "line": {
          "width": 0
         },
         "mode": "lines",
         "name": "Fe—Li—Li<sub>2</sub>O",
         "opacity": 0.15,
         "showlegend": false,
         "type": "scatterternary"
        },
        {
         "a": [
          8,
          4,
          1
         ],
         "b": [
          4,
          0,
          0
         ],
         "c": [
          12,
          4,
          8
         ],
         "fill": "toself",
         "fillcolor": "#1CA71C",
         "hovertemplate": "<extra></extra>",
         "line": {
          "width": 0
         },
         "mode": "lines",
         "name": "Li<sub>2</sub>FeO<sub>3</sub>—Li<sub>2</sub>O<sub>2</sub>—LiO<sub>8</sub>",
         "opacity": 0.15,
         "showlegend": false,
         "type": "scatterternary"
        },
        {
         "a": [
          0,
          4,
          1
         ],
         "b": [
          4,
          4,
          0
         ],
         "c": [
          6,
          8,
          8
         ],
         "fill": "toself",
         "fillcolor": "#FB0D0D",
         "hovertemplate": "<extra></extra>",
         "line": {
          "width": 0
         },
         "mode": "lines",
         "name": "Fe<sub>2</sub>O<sub>3</sub>—LiFeO<sub>2</sub>—LiO<sub>8</sub>",
         "opacity": 0.15,
         "showlegend": false,
         "type": "scatterternary"
        },
        {
         "a": [
          8,
          4,
          1
         ],
         "b": [
          4,
          4,
          0
         ],
         "c": [
          12,
          8,
          8
         ],
         "fill": "toself",
         "fillcolor": "#DA16FF",
         "hovertemplate": "<extra></extra>",
         "line": {
          "width": 0
         },
         "mode": "lines",
         "name": "Li<sub>2</sub>FeO<sub>3</sub>—LiFeO<sub>2</sub>—LiO<sub>8</sub>",
         "opacity": 0.15,
         "showlegend": false,
         "type": "scatterternary"
        },
        {
         "a": [
          0,
          0,
          4
         ],
         "b": [
          4,
          6,
          4
         ],
         "c": [
          6,
          8,
          8
         ],
         "fill": "toself",
         "fillcolor": "#222A2A",
         "hovertemplate": "<extra></extra>",
         "line": {
          "width": 0
         },
         "mode": "lines",
         "name": "Fe<sub>2</sub>O<sub>3</sub>—Fe<sub>3</sub>O<sub>4</sub>—LiFeO<sub>2</sub>",
         "opacity": 0.15,
         "showlegend": false,
         "type": "scatterternary"
        },
        {
         "a": [
          0,
          0,
          4
         ],
         "b": [
          6,
          4,
          4
         ],
         "c": [
          8,
          4,
          8
         ],
         "fill": "toself",
         "fillcolor": "#B68100",
         "hovertemplate": "<extra></extra>",
         "line": {
          "width": 0
         },
         "mode": "lines",
         "name": "Fe<sub>3</sub>O<sub>4</sub>—FeO—LiFeO<sub>2</sub>",
         "opacity": 0.15,
         "showlegend": false,
         "type": "scatterternary"
        },
        {
         "a": [
          8,
          40,
          4
         ],
         "b": [
          4,
          8,
          4
         ],
         "c": [
          12,
          32,
          8
         ],
         "fill": "toself",
         "fillcolor": "#750D86",
         "hovertemplate": "<extra></extra>",
         "line": {
          "width": 0
         },
         "mode": "lines",
         "name": "Li<sub>2</sub>FeO<sub>3</sub>—Li<sub>5</sub>FeO<sub>4</sub>—LiFeO<sub>2</sub>",
         "opacity": 0.15,
         "showlegend": false,
         "type": "scatterternary"
        },
        {
         "a": [
          2,
          4,
          40
         ],
         "b": [
          0,
          0,
          8
         ],
         "c": [
          1,
          4,
          32
         ],
         "fill": "toself",
         "fillcolor": "#EB663B",
         "hovertemplate": "<extra></extra>",
         "line": {
          "width": 0
         },
         "mode": "lines",
         "name": "Li<sub>2</sub>O—Li<sub>2</sub>O<sub>2</sub>—Li<sub>5</sub>FeO<sub>4</sub>",
         "opacity": 0.15,
         "showlegend": false,
         "type": "scatterternary"
        },
        {
         "a": [
          8,
          4,
          40
         ],
         "b": [
          4,
          0,
          8
         ],
         "c": [
          12,
          4,
          32
         ],
         "fill": "toself",
         "fillcolor": "#511CFB",
         "hovertemplate": "<extra></extra>",
         "line": {
          "width": 0
         },
         "mode": "lines",
         "name": "Li<sub>2</sub>FeO<sub>3</sub>—Li<sub>2</sub>O<sub>2</sub>—Li<sub>5</sub>FeO<sub>4</sub>",
         "opacity": 0.15,
         "showlegend": false,
         "type": "scatterternary"
        },
        {
         "a": [
          0,
          0,
          8
         ],
         "b": [
          1,
          4,
          4
         ],
         "c": [
          0,
          4,
          8
         ],
         "fill": "toself",
         "fillcolor": "#00A08B",
         "hovertemplate": "<extra></extra>",
         "line": {
          "width": 0
         },
         "mode": "lines",
         "name": "Fe—FeO—Li<sub>2</sub>FeO<sub>2</sub>",
         "opacity": 0.15,
         "showlegend": false,
         "type": "scatterternary"
        },
        {
         "a": [
          0,
          8,
          2
         ],
         "b": [
          1,
          4,
          0
         ],
         "c": [
          0,
          8,
          1
         ],
         "fill": "toself",
         "fillcolor": "#FB00D1",
         "hovertemplate": "<extra></extra>",
         "line": {
          "width": 0
         },
         "mode": "lines",
         "name": "Fe—Li<sub>2</sub>FeO<sub>2</sub>—Li<sub>2</sub>O",
         "opacity": 0.15,
         "showlegend": false,
         "type": "scatterternary"
        },
        {
         "a": [
          8,
          2,
          40
         ],
         "b": [
          4,
          0,
          8
         ],
         "c": [
          8,
          1,
          32
         ],
         "fill": "toself",
         "fillcolor": "#FC0080",
         "hovertemplate": "<extra></extra>",
         "line": {
          "width": 0
         },
         "mode": "lines",
         "name": "Li<sub>2</sub>FeO<sub>2</sub>—Li<sub>2</sub>O—Li<sub>5</sub>FeO<sub>4</sub>",
         "opacity": 0.15,
         "showlegend": false,
         "type": "scatterternary"
        },
        {
         "a": [
          0,
          8,
          4
         ],
         "b": [
          4,
          4,
          4
         ],
         "c": [
          4,
          8,
          8
         ],
         "fill": "toself",
         "fillcolor": "#B2828D",
         "hovertemplate": "<extra></extra>",
         "line": {
          "width": 0
         },
         "mode": "lines",
         "name": "FeO—Li<sub>2</sub>FeO<sub>2</sub>—LiFeO<sub>2</sub>",
         "opacity": 0.15,
         "showlegend": false,
         "type": "scatterternary"
        },
        {
         "a": [
          8,
          40,
          4
         ],
         "b": [
          4,
          8,
          4
         ],
         "c": [
          8,
          32,
          8
         ],
         "fill": "toself",
         "fillcolor": "#6C7C32",
         "hovertemplate": "<extra></extra>",
         "line": {
          "width": 0
         },
         "mode": "lines",
         "name": "Li<sub>2</sub>FeO<sub>2</sub>—Li<sub>5</sub>FeO<sub>4</sub>—LiFeO<sub>2</sub>",
         "opacity": 0.15,
         "showlegend": false,
         "type": "scatterternary"
        },
        {
         "a": [
          0,
          0,
          2,
          0,
          4,
          40,
          4,
          8,
          0,
          1,
          3,
          8,
          0
         ],
         "b": [
          4,
          1,
          0,
          6,
          0,
          8,
          4,
          4,
          4,
          0,
          0,
          4,
          0
         ],
         "c": [
          4,
          0,
          1,
          8,
          4,
          32,
          8,
          8,
          6,
          8,
          0,
          12,
          8
         ],
         "cliponaxis": false,
         "hoverinfo": "text",
         "hoverlabel": {
          "font": {
           "size": 14
          }
         },
         "hovertext": [
          "FeO (mp-1274279-GGA+U) <br>  Formation energy: -1.728 eV/atom <br>  (Stable)<br><br> Li: 0.0<br> Fe: 0.5<br> O: 0.5",
          "Fe (mp-13-GGA) <br>  Formation energy: 0.0 eV/atom <br>  (Stable)<br><br> Li: 0.0<br> Fe: 1.0<br> O: 0.0",
          "Li<sub>2</sub>O (mp-1960-GGA) <br>  Formation energy: -2.067 eV/atom <br>  (Stable)<br><br> Li: 0.666667<br> Fe: 0.0<br> O: 0.333333",
          "Fe<sub>3</sub>O<sub>4</sub> (mp-19306-GGA+U) <br>  Formation energy: -1.858 eV/atom <br>  (Stable)<br><br> Li: 0.0<br> Fe: 0.428571<br> O: 0.571429",
          "Li<sub>2</sub>O<sub>2</sub> (mp-841-GGA) <br>  Formation energy: -1.651 eV/atom <br>  (Stable)<br><br> Li: 0.5<br> Fe: 0.0<br> O: 0.5",
          "Li<sub>5</sub>FeO<sub>4</sub> (mp-19511-GGA+U) <br>  Formation energy: -2.096 eV/atom <br>  (Stable)<br><br> Li: 0.5<br> Fe: 0.1<br> O: 0.4",
          "LiFeO<sub>2</sub> (mp-757614-GGA+U) <br>  Formation energy: -2.072 eV/atom <br>  (Stable)<br><br> Li: 0.25<br> Fe: 0.25<br> O: 0.5",
          "Li<sub>2</sub>FeO<sub>2</sub> (mp-755094-GGA+U) <br>  Formation energy: -1.979 eV/atom <br>  (Stable)<br><br> Li: 0.4<br> Fe: 0.2<br> O: 0.4",
          "Fe<sub>2</sub>O<sub>3</sub> (mp-19770-GGA+U) <br>  Formation energy: -1.907 eV/atom <br>  (Stable)<br><br> Li: 0.0<br> Fe: 0.4<br> O: 0.6",
          "LiO<sub>8</sub> (mp-1235059-GGA) <br>  Formation energy: -0.414 eV/atom <br>  (Stable)<br><br> Li: 0.111111<br> Fe: 0.0<br> O: 0.888889",
          "Li (mp-1018134-GGA) <br>  Formation energy: 0.0 eV/atom <br>  (Stable)<br><br> Li: 1.0<br> Fe: 0.0<br> O: 0.0",
          "Li<sub>2</sub>FeO<sub>3</sub> (mp-774155-GGA+U) <br>  Formation energy: -1.965 eV/atom <br>  (Stable)<br><br> Li: 0.333333<br> Fe: 0.166667<br> O: 0.5",
          "O<sub>2</sub> (mp-12957-GGA) <br>  Formation energy: 0.0 eV/atom <br>  (Stable)<br><br> Li: 0.0<br> Fe: 0.0<br> O: 1.0"
         ],
         "marker": {
          "color": "green",
          "line": {
           "color": "black",
           "width": 2
          },
          "size": 15,
          "symbol": "circle"
         },
         "mode": "markers",
         "name": "Stable",
         "showlegend": true,
         "type": "scatterternary"
        },
        {
         "a": [
          0,
          0,
          0,
          0,
          0,
          0,
          0,
          0,
          0,
          0,
          0,
          0,
          0,
          0,
          0,
          0,
          0,
          0,
          0,
          0,
          0,
          0,
          0,
          0,
          0,
          0,
          0,
          0,
          0,
          0,
          0,
          0,
          0,
          0,
          0,
          0,
          0,
          0,
          0,
          0,
          0,
          0,
          0,
          0,
          0,
          0,
          0,
          0,
          0,
          0,
          0,
          0,
          0,
          0,
          0,
          0,
          0,
          0,
          0,
          0,
          0,
          0,
          0,
          0,
          0,
          0,
          0,
          0,
          0,
          0,
          0,
          0,
          0,
          0,
          0,
          0,
          0,
          0,
          0,
          0,
          0,
          0,
          0,
          0,
          0,
          0,
          0,
          0,
          0,
          0,
          0,
          0,
          0,
          3,
          1,
          2,
          4,
          1,
          8,
          12,
          2,
          1,
          1,
          1,
          1,
          1,
          1,
          4,
          2,
          1,
          2,
          16,
          4,
          5,
          1,
          4,
          12,
          4,
          2,
          2,
          2,
          1,
          1,
          2,
          2,
          2,
          2,
          4,
          1,
          8,
          4,
          8,
          4,
          4,
          2,
          1,
          2,
          1,
          1,
          2,
          1,
          8,
          1,
          1,
          4,
          2,
          2,
          1,
          1,
          2,
          1,
          1,
          1,
          68,
          68,
          8,
          68,
          68,
          4,
          8,
          8,
          8,
          8,
          8,
          4,
          8,
          4,
          2,
          4,
          4,
          2,
          12,
          12,
          12,
          12,
          12,
          6,
          3,
          3,
          12,
          12,
          3,
          12,
          6,
          18,
          3,
          3,
          6,
          6,
          6,
          6,
          6,
          3,
          6,
          3,
          6,
          6,
          6,
          3,
          3,
          3,
          3,
          12,
          6,
          3,
          6,
          3,
          6,
          3,
          16,
          16,
          16,
          16,
          4,
          4,
          4,
          4,
          8,
          8,
          20,
          20,
          20,
          20,
          40,
          20,
          10,
          10,
          10,
          5,
          10,
          10,
          5,
          5,
          5,
          10,
          5,
          24,
          6,
          12,
          6,
          12,
          6,
          7,
          14,
          7,
          7,
          7,
          7,
          16,
          16,
          32,
          32,
          16,
          16,
          16,
          8,
          8,
          8,
          9,
          18,
          18,
          9,
          9,
          10,
          11,
          12,
          13,
          28,
          15,
          30,
          21,
          35
         ],
         "b": [
          0,
          0,
          0,
          0,
          0,
          0,
          0,
          0,
          28,
          1,
          4,
          2,
          2,
          4,
          4,
          4,
          12,
          12,
          2,
          2,
          2,
          4,
          8,
          4,
          8,
          2,
          2,
          16,
          16,
          16,
          4,
          64,
          8,
          16,
          16,
          8,
          16,
          16,
          8,
          24,
          12,
          24,
          12,
          12,
          24,
          6,
          12,
          6,
          3,
          24,
          6,
          12,
          12,
          12,
          12,
          12,
          12,
          12,
          12,
          12,
          24,
          24,
          6,
          8,
          5,
          5,
          20,
          5,
          7,
          14,
          16,
          8,
          9,
          20,
          10,
          11,
          12,
          13,
          13,
          14,
          15,
          15,
          17,
          21,
          21,
          23,
          23,
          23,
          25,
          32,
          38,
          41,
          43,
          0,
          0,
          0,
          0,
          0,
          0,
          0,
          0,
          0,
          0,
          0,
          0,
          0,
          0,
          4,
          2,
          1,
          2,
          16,
          4,
          5,
          1,
          4,
          12,
          4,
          2,
          4,
          4,
          2,
          2,
          4,
          4,
          4,
          4,
          8,
          2,
          16,
          8,
          16,
          8,
          8,
          4,
          3,
          6,
          3,
          3,
          6,
          3,
          40,
          5,
          5,
          20,
          16,
          16,
          8,
          8,
          16,
          8,
          8,
          23,
          0,
          0,
          0,
          0,
          0,
          0,
          4,
          4,
          4,
          4,
          4,
          2,
          4,
          6,
          3,
          6,
          6,
          5,
          4,
          4,
          4,
          4,
          4,
          2,
          1,
          1,
          4,
          4,
          1,
          4,
          4,
          12,
          2,
          2,
          4,
          4,
          4,
          4,
          4,
          3,
          6,
          3,
          6,
          6,
          6,
          3,
          4,
          4,
          4,
          20,
          10,
          5,
          10,
          5,
          10,
          7,
          4,
          4,
          8,
          8,
          3,
          3,
          3,
          5,
          14,
          18,
          4,
          4,
          4,
          4,
          8,
          4,
          6,
          6,
          8,
          4,
          10,
          10,
          5,
          7,
          11,
          22,
          11,
          4,
          1,
          6,
          5,
          10,
          7,
          1,
          6,
          3,
          5,
          5,
          5,
          2,
          2,
          8,
          8,
          10,
          10,
          10,
          5,
          5,
          7,
          2,
          4,
          4,
          5,
          23,
          21,
          4,
          5,
          2,
          8,
          2,
          8,
          4,
          8
         ],
         "c": [
          4,
          8,
          8,
          2,
          2,
          4,
          2,
          2,
          0,
          0,
          0,
          0,
          0,
          0,
          4,
          4,
          12,
          12,
          2,
          2,
          2,
          4,
          16,
          8,
          16,
          4,
          4,
          24,
          24,
          24,
          6,
          96,
          12,
          24,
          24,
          12,
          24,
          24,
          12,
          32,
          16,
          32,
          16,
          16,
          32,
          8,
          16,
          8,
          4,
          32,
          8,
          16,
          16,
          16,
          16,
          16,
          16,
          16,
          16,
          16,
          32,
          32,
          8,
          10,
          7,
          8,
          32,
          8,
          8,
          16,
          18,
          9,
          10,
          22,
          11,
          12,
          13,
          14,
          15,
          15,
          16,
          16,
          18,
          23,
          32,
          25,
          32,
          32,
          32,
          35,
          39,
          56,
          64,
          0,
          0,
          0,
          0,
          0,
          0,
          0,
          4,
          8,
          8,
          8,
          8,
          8,
          8,
          8,
          4,
          2,
          4,
          32,
          8,
          10,
          2,
          12,
          36,
          12,
          6,
          6,
          6,
          3,
          3,
          6,
          8,
          8,
          8,
          16,
          4,
          32,
          16,
          32,
          16,
          16,
          8,
          4,
          8,
          4,
          4,
          12,
          6,
          64,
          8,
          8,
          32,
          24,
          24,
          12,
          12,
          24,
          16,
          16,
          32,
          34,
          34,
          4,
          34,
          34,
          4,
          8,
          8,
          8,
          12,
          12,
          6,
          12,
          12,
          6,
          12,
          12,
          10,
          12,
          12,
          12,
          12,
          12,
          8,
          4,
          4,
          16,
          16,
          4,
          16,
          12,
          36,
          6,
          6,
          12,
          12,
          12,
          12,
          12,
          8,
          16,
          8,
          16,
          16,
          16,
          8,
          8,
          8,
          8,
          32,
          18,
          10,
          24,
          12,
          24,
          12,
          12,
          16,
          20,
          20,
          8,
          8,
          8,
          10,
          24,
          36,
          16,
          16,
          16,
          16,
          32,
          16,
          16,
          16,
          16,
          8,
          24,
          24,
          12,
          12,
          16,
          32,
          16,
          16,
          6,
          16,
          12,
          24,
          15,
          6,
          16,
          10,
          12,
          12,
          16,
          12,
          12,
          28,
          36,
          20,
          20,
          20,
          10,
          10,
          15,
          8,
          16,
          16,
          12,
          32,
          32,
          12,
          16,
          12,
          26,
          12,
          32,
          16,
          32
         ],
         "cliponaxis": false,
         "hoverinfo": "text",
         "hoverlabel": {
          "font": {
           "size": 14
          }
         },
         "hovertext": [
          "O<sub>2</sub> (mp-1066100-GGA) <br>  Formation energy: 0.126 eV/atom <br>  Energy Above Hull: (+0.126 eV/atom)<br><br> Li: 0.0<br> Fe: 0.0<br> O: 1.0",
          "O<sub>2</sub> (mp-723285-GGA) <br>  Formation energy: 0.001 eV/atom <br>  Energy Above Hull: (+0.001 eV/atom)<br><br> Li: 0.0<br> Fe: 0.0<br> O: 1.0",
          "O<sub>2</sub> (mp-1087546-GGA) <br>  Formation energy: 0.018 eV/atom <br>  Energy Above Hull: (+0.018 eV/atom)<br><br> Li: 0.0<br> Fe: 0.0<br> O: 1.0",
          "O<sub>2</sub> (mp-611836-GGA) <br>  Formation energy: 0.01 eV/atom <br>  Energy Above Hull: (+0.01 eV/atom)<br><br> Li: 0.0<br> Fe: 0.0<br> O: 1.0",
          "O<sub>2</sub> (mp-1009490-GGA) <br>  Formation energy: 0.002 eV/atom <br>  Energy Above Hull: (+0.002 eV/atom)<br><br> Li: 0.0<br> Fe: 0.0<br> O: 1.0",
          "O<sub>2</sub> (mp-1180036-GGA) <br>  Formation energy: 0.03 eV/atom <br>  Energy Above Hull: (+0.03 eV/atom)<br><br> Li: 0.0<br> Fe: 0.0<br> O: 1.0",
          "O<sub>2</sub> (mp-607540-GGA) <br>  Formation energy: 0.121 eV/atom <br>  Energy Above Hull: (+0.121 eV/atom)<br><br> Li: 0.0<br> Fe: 0.0<br> O: 1.0",
          "O<sub>2</sub> (mp-610917-GGA) <br>  Formation energy: 0.012 eV/atom <br>  Energy Above Hull: (+0.012 eV/atom)<br><br> Li: 0.0<br> Fe: 0.0<br> O: 1.0",
          "Fe (mp-1194030-GGA) <br>  Formation energy: 0.175 eV/atom <br>  Energy Above Hull: (+0.175 eV/atom)<br><br> Li: 0.0<br> Fe: 1.0<br> O: 0.0",
          "Fe (mp-150-GGA) <br>  Formation energy: 0.148 eV/atom <br>  Energy Above Hull: (+0.148 eV/atom)<br><br> Li: 0.0<br> Fe: 1.0<br> O: 0.0",
          "Fe (mp-1271068-GGA) <br>  Formation energy: 0.017 eV/atom <br>  Energy Above Hull: (+0.017 eV/atom)<br><br> Li: 0.0<br> Fe: 1.0<br> O: 0.0",
          "Fe (mp-1271128-GGA) <br>  Formation energy: 0.099 eV/atom <br>  Energy Above Hull: (+0.099 eV/atom)<br><br> Li: 0.0<br> Fe: 1.0<br> O: 0.0",
          "Fe (mp-136-GGA) <br>  Formation energy: 0.098 eV/atom <br>  Energy Above Hull: (+0.098 eV/atom)<br><br> Li: 0.0<br> Fe: 1.0<br> O: 0.0",
          "Fe (mp-1271198-GGA) <br>  Formation energy: 0.055 eV/atom <br>  Energy Above Hull: (+0.055 eV/atom)<br><br> Li: 0.0<br> Fe: 1.0<br> O: 0.0",
          "FeO (mp-1178232-GGA+U) <br>  Formation energy: -1.716 eV/atom <br>  Energy Above Hull: (+0.012 eV/atom)<br><br> Li: 0.0<br> Fe: 0.5<br> O: 0.5",
          "FeO (mp-753682-GGA+U) <br>  Formation energy: -1.641 eV/atom <br>  Energy Above Hull: (+0.087 eV/atom)<br><br> Li: 0.0<br> Fe: 0.5<br> O: 0.5",
          "FeO (mp-1178247-GGA+U) <br>  Formation energy: -1.616 eV/atom <br>  Energy Above Hull: (+0.111 eV/atom)<br><br> Li: 0.0<br> Fe: 0.5<br> O: 0.5",
          "FeO (mp-849689-GGA+U) <br>  Formation energy: -1.624 eV/atom <br>  Energy Above Hull: (+0.104 eV/atom)<br><br> Li: 0.0<br> Fe: 0.5<br> O: 0.5",
          "FeO (mp-715262-GGA+U) <br>  Formation energy: -1.718 eV/atom <br>  Energy Above Hull: (+0.009 eV/atom)<br><br> Li: 0.0<br> Fe: 0.5<br> O: 0.5",
          "FeO (mp-755189-GGA+U) <br>  Formation energy: -1.614 eV/atom <br>  Energy Above Hull: (+0.113 eV/atom)<br><br> Li: 0.0<br> Fe: 0.5<br> O: 0.5",
          "FeO (mp-756436-GGA+U) <br>  Formation energy: -1.612 eV/atom <br>  Energy Above Hull: (+0.116 eV/atom)<br><br> Li: 0.0<br> Fe: 0.5<br> O: 0.5",
          "FeO (mp-1283030-GGA+U) <br>  Formation energy: -1.714 eV/atom <br>  Energy Above Hull: (+0.014 eV/atom)<br><br> Li: 0.0<br> Fe: 0.5<br> O: 0.5",
          "FeO<sub>2</sub> (mp-1205429-GGA+U) <br>  Formation energy: -1.406 eV/atom <br>  Energy Above Hull: (+0.184 eV/atom)<br><br> Li: 0.0<br> Fe: 0.333333<br> O: 0.666667",
          "FeO<sub>2</sub> (mp-796324-GGA+U) <br>  Formation energy: -1.412 eV/atom <br>  Energy Above Hull: (+0.177 eV/atom)<br><br> Li: 0.0<br> Fe: 0.333333<br> O: 0.666667",
          "FeO<sub>2</sub> (mp-1181766-GGA+U) <br>  Formation energy: -1.412 eV/atom <br>  Energy Above Hull: (+0.178 eV/atom)<br><br> Li: 0.0<br> Fe: 0.333333<br> O: 0.666667",
          "FeO<sub>2</sub> (mp-25332-GGA+U) <br>  Formation energy: -1.425 eV/atom <br>  Energy Above Hull: (+0.165 eV/atom)<br><br> Li: 0.0<br> Fe: 0.333333<br> O: 0.666667",
          "FeO<sub>2</sub> (mp-850222-GGA+U) <br>  Formation energy: -1.447 eV/atom <br>  Energy Above Hull: (+0.143 eV/atom)<br><br> Li: 0.0<br> Fe: 0.333333<br> O: 0.666667",
          "Fe<sub>2</sub>O<sub>3</sub> (mp-776606-GGA+U) <br>  Formation energy: -1.784 eV/atom <br>  Energy Above Hull: (+0.123 eV/atom)<br><br> Li: 0.0<br> Fe: 0.4<br> O: 0.6",
          "Fe<sub>2</sub>O<sub>3</sub> (mp-1356129-GGA+U) <br>  Formation energy: -1.822 eV/atom <br>  Energy Above Hull: (+0.085 eV/atom)<br><br> Li: 0.0<br> Fe: 0.4<br> O: 0.6",
          "Fe<sub>2</sub>O<sub>3</sub> (mp-565814-GGA+U) <br>  Formation energy: -1.836 eV/atom <br>  Energy Above Hull: (+0.071 eV/atom)<br><br> Li: 0.0<br> Fe: 0.4<br> O: 0.6",
          "Fe<sub>2</sub>O<sub>3</sub> (mp-1181824-GGA+U) <br>  Formation energy: -1.739 eV/atom <br>  Energy Above Hull: (+0.168 eV/atom)<br><br> Li: 0.0<br> Fe: 0.4<br> O: 0.6",
          "Fe<sub>2</sub>O<sub>3</sub> (mp-1456-GGA+U) <br>  Formation energy: -1.788 eV/atom <br>  Energy Above Hull: (+0.119 eV/atom)<br><br> Li: 0.0<br> Fe: 0.4<br> O: 0.6",
          "Fe<sub>2</sub>O<sub>3</sub> (mp-1205415-GGA+U) <br>  Formation energy: -1.73 eV/atom <br>  Energy Above Hull: (+0.177 eV/atom)<br><br> Li: 0.0<br> Fe: 0.4<br> O: 0.6",
          "Fe<sub>2</sub>O<sub>3</sub> (mp-1178392-GGA+U) <br>  Formation energy: -1.794 eV/atom <br>  Energy Above Hull: (+0.113 eV/atom)<br><br> Li: 0.0<br> Fe: 0.4<br> O: 0.6",
          "Fe<sub>2</sub>O<sub>3</sub> (mp-705547-GGA+U) <br>  Formation energy: -1.747 eV/atom <br>  Energy Above Hull: (+0.16 eV/atom)<br><br> Li: 0.0<br> Fe: 0.4<br> O: 0.6",
          "Fe<sub>2</sub>O<sub>3</sub> (mp-715276-GGA+U) <br>  Formation energy: -1.821 eV/atom <br>  Energy Above Hull: (+0.086 eV/atom)<br><br> Li: 0.0<br> Fe: 0.4<br> O: 0.6",
          "Fe<sub>2</sub>O<sub>3</sub> (mp-542896-GGA+U) <br>  Formation energy: -1.791 eV/atom <br>  Energy Above Hull: (+0.116 eV/atom)<br><br> Li: 0.0<br> Fe: 0.4<br> O: 0.6",
          "Fe<sub>2</sub>O<sub>3</sub> (mp-715572-GGA+U) <br>  Formation energy: -1.83 eV/atom <br>  Energy Above Hull: (+0.077 eV/atom)<br><br> Li: 0.0<br> Fe: 0.4<br> O: 0.6",
          "Fe<sub>2</sub>O<sub>3</sub> (mp-510080-GGA+U) <br>  Formation energy: -1.776 eV/atom <br>  Energy Above Hull: (+0.131 eV/atom)<br><br> Li: 0.0<br> Fe: 0.4<br> O: 0.6",
          "Fe<sub>3</sub>O<sub>4</sub> (mp-1185276-GGA+U) <br>  Formation energy: -1.8 eV/atom <br>  Energy Above Hull: (+0.059 eV/atom)<br><br> Li: 0.0<br> Fe: 0.428571<br> O: 0.571429",
          "Fe<sub>3</sub>O<sub>4</sub> (mp-1271729-GGA+U) <br>  Formation energy: -1.797 eV/atom <br>  Energy Above Hull: (+0.062 eV/atom)<br><br> Li: 0.0<br> Fe: 0.428571<br> O: 0.571429",
          "Fe<sub>3</sub>O<sub>4</sub> (mp-1182229-GGA+U) <br>  Formation energy: -1.727 eV/atom <br>  Energy Above Hull: (+0.131 eV/atom)<br><br> Li: 0.0<br> Fe: 0.428571<br> O: 0.571429",
          "Fe<sub>3</sub>O<sub>4</sub> (mp-1181570-GGA+U) <br>  Formation energy: -1.726 eV/atom <br>  Energy Above Hull: (+0.133 eV/atom)<br><br> Li: 0.0<br> Fe: 0.428571<br> O: 0.571429",
          "Fe<sub>3</sub>O<sub>4</sub> (mp-1271978-GGA+U) <br>  Formation energy: -1.829 eV/atom <br>  Energy Above Hull: (+0.029 eV/atom)<br><br> Li: 0.0<br> Fe: 0.428571<br> O: 0.571429",
          "Fe<sub>3</sub>O<sub>4</sub> (mp-1182249-GGA+U) <br>  Formation energy: -1.806 eV/atom <br>  Energy Above Hull: (+0.052 eV/atom)<br><br> Li: 0.0<br> Fe: 0.428571<br> O: 0.571429",
          "Fe<sub>3</sub>O<sub>4</sub> (mp-715438-GGA+U) <br>  Formation energy: -1.78 eV/atom <br>  Energy Above Hull: (+0.078 eV/atom)<br><br> Li: 0.0<br> Fe: 0.428571<br> O: 0.571429",
          "Fe<sub>3</sub>O<sub>4</sub> (mp-716052-GGA+U) <br>  Formation energy: -1.783 eV/atom <br>  Energy Above Hull: (+0.075 eV/atom)<br><br> Li: 0.0<br> Fe: 0.428571<br> O: 0.571429",
          "Fe<sub>3</sub>O<sub>4</sub> (mp-612405-GGA+U) <br>  Formation energy: -1.681 eV/atom <br>  Energy Above Hull: (+0.177 eV/atom)<br><br> Li: 0.0<br> Fe: 0.428571<br> O: 0.571429",
          "Fe<sub>3</sub>O<sub>4</sub> (mp-1181340-GGA+U) <br>  Formation energy: -1.734 eV/atom <br>  Energy Above Hull: (+0.124 eV/atom)<br><br> Li: 0.0<br> Fe: 0.428571<br> O: 0.571429",
          "Fe<sub>3</sub>O<sub>4</sub> (mp-705416-GGA+U) <br>  Formation energy: -1.713 eV/atom <br>  Energy Above Hull: (+0.146 eV/atom)<br><br> Li: 0.0<br> Fe: 0.428571<br> O: 0.571429",
          "Fe<sub>3</sub>O<sub>4</sub> (mp-31770-GGA+U) <br>  Formation energy: -1.841 eV/atom <br>  Energy Above Hull: (+0.017 eV/atom)<br><br> Li: 0.0<br> Fe: 0.428571<br> O: 0.571429",
          "Fe<sub>3</sub>O<sub>4</sub> (mp-505595-GGA+U) <br>  Formation energy: -1.744 eV/atom <br>  Energy Above Hull: (+0.114 eV/atom)<br><br> Li: 0.0<br> Fe: 0.428571<br> O: 0.571429",
          "Fe<sub>3</sub>O<sub>4</sub> (mp-1192788-GGA+U) <br>  Formation energy: -1.75 eV/atom <br>  Energy Above Hull: (+0.109 eV/atom)<br><br> Li: 0.0<br> Fe: 0.428571<br> O: 0.571429",
          "Fe<sub>3</sub>O<sub>4</sub> (mp-715558-GGA+U) <br>  Formation energy: -1.78 eV/atom <br>  Energy Above Hull: (+0.079 eV/atom)<br><br> Li: 0.0<br> Fe: 0.428571<br> O: 0.571429",
          "Fe<sub>3</sub>O<sub>4</sub> (mp-510252-GGA+U) <br>  Formation energy: -1.783 eV/atom <br>  Energy Above Hull: (+0.075 eV/atom)<br><br> Li: 0.0<br> Fe: 0.428571<br> O: 0.571429",
          "Fe<sub>3</sub>O<sub>4</sub> (mp-1181546-GGA+U) <br>  Formation energy: -1.782 eV/atom <br>  Energy Above Hull: (+0.076 eV/atom)<br><br> Li: 0.0<br> Fe: 0.428571<br> O: 0.571429",
          "Fe<sub>3</sub>O<sub>4</sub> (mp-715275-GGA+U) <br>  Formation energy: -1.744 eV/atom <br>  Energy Above Hull: (+0.114 eV/atom)<br><br> Li: 0.0<br> Fe: 0.428571<br> O: 0.571429",
          "Fe<sub>3</sub>O<sub>4</sub> (mp-1271821-GGA+U) <br>  Formation energy: -1.834 eV/atom <br>  Energy Above Hull: (+0.024 eV/atom)<br><br> Li: 0.0<br> Fe: 0.428571<br> O: 0.571429",
          "Fe<sub>3</sub>O<sub>4</sub> (mp-1181657-GGA+U) <br>  Formation energy: -1.818 eV/atom <br>  Energy Above Hull: (+0.04 eV/atom)<br><br> Li: 0.0<br> Fe: 0.428571<br> O: 0.571429",
          "Fe<sub>3</sub>O<sub>4</sub> (mp-715811-GGA+U) <br>  Formation energy: -1.821 eV/atom <br>  Energy Above Hull: (+0.037 eV/atom)<br><br> Li: 0.0<br> Fe: 0.428571<br> O: 0.571429",
          "Fe<sub>3</sub>O<sub>4</sub> (mp-1181813-GGA+U) <br>  Formation energy: -1.81 eV/atom <br>  Energy Above Hull: (+0.048 eV/atom)<br><br> Li: 0.0<br> Fe: 0.428571<br> O: 0.571429",
          "Fe<sub>3</sub>O<sub>4</sub> (mp-650112-GGA+U) <br>  Formation energy: -1.799 eV/atom <br>  Energy Above Hull: (+0.059 eV/atom)<br><br> Li: 0.0<br> Fe: 0.428571<br> O: 0.571429",
          "Fe<sub>3</sub>O<sub>4</sub> (mp-18731-GGA+U) <br>  Formation energy: -1.75 eV/atom <br>  Energy Above Hull: (+0.108 eV/atom)<br><br> Li: 0.0<br> Fe: 0.428571<br> O: 0.571429",
          "Fe<sub>4</sub>O<sub>5</sub> (mp-1188678-GGA+U) <br>  Formation energy: -1.74 eV/atom <br>  Energy Above Hull: (+0.09 eV/atom)<br><br> Li: 0.0<br> Fe: 0.444444<br> O: 0.555556",
          "Fe<sub>5</sub>O<sub>7</sub> (mp-1095382-GGA+U) <br>  Formation energy: -1.708 eV/atom <br>  Energy Above Hull: (+0.171 eV/atom)<br><br> Li: 0.0<br> Fe: 0.416667<br> O: 0.583333",
          "Fe<sub>5</sub>O<sub>8</sub> (mp-1225007-GGA+U) <br>  Formation energy: -1.653 eV/atom <br>  Energy Above Hull: (+0.181 eV/atom)<br><br> Li: 0.0<br> Fe: 0.384615<br> O: 0.615385",
          "Fe<sub>5</sub>O<sub>8</sub> (mp-510746-GGA+U) <br>  Formation energy: -1.671 eV/atom <br>  Energy Above Hull: (+0.163 eV/atom)<br><br> Li: 0.0<br> Fe: 0.384615<br> O: 0.615385",
          "Fe<sub>5</sub>O<sub>8</sub> (mp-1225001-GGA+U) <br>  Formation energy: -1.649 eV/atom <br>  Energy Above Hull: (+0.185 eV/atom)<br><br> Li: 0.0<br> Fe: 0.384615<br> O: 0.615385",
          "Fe<sub>7</sub>O<sub>8</sub> (mp-32939-GGA+U) <br>  Formation energy: -1.69 eV/atom <br>  Energy Above Hull: (+0.099 eV/atom)<br><br> Li: 0.0<br> Fe: 0.466667<br> O: 0.533333",
          "Fe<sub>7</sub>O<sub>8</sub> (mp-715333-GGA+U) <br>  Formation energy: -1.725 eV/atom <br>  Energy Above Hull: (+0.064 eV/atom)<br><br> Li: 0.0<br> Fe: 0.466667<br> O: 0.533333",
          "Fe<sub>8</sub>O<sub>9</sub> (mp-705588-GGA+U) <br>  Formation energy: -1.732 eV/atom <br>  Energy Above Hull: (+0.05 eV/atom)<br><br> Li: 0.0<br> Fe: 0.470588<br> O: 0.529412",
          "Fe<sub>8</sub>O<sub>9</sub> (mp-763787-GGA+U) <br>  Formation energy: -1.719 eV/atom <br>  Energy Above Hull: (+0.062 eV/atom)<br><br> Li: 0.0<br> Fe: 0.470588<br> O: 0.529412",
          "Fe<sub>9</sub>O<sub>10</sub> (mp-759037-GGA+U) <br>  Formation energy: -1.736 eV/atom <br>  Energy Above Hull: (+0.04 eV/atom)<br><br> Li: 0.0<br> Fe: 0.473684<br> O: 0.526316",
          "Fe<sub>10</sub>O<sub>11</sub> (mp-705555-GGA+U) <br>  Formation energy: -1.726 eV/atom <br>  Energy Above Hull: (+0.045 eV/atom)<br><br> Li: 0.0<br> Fe: 0.47619<br> O: 0.52381",
          "Fe<sub>10</sub>O<sub>11</sub> (mp-759504-GGA+U) <br>  Formation energy: -1.714 eV/atom <br>  Energy Above Hull: (+0.057 eV/atom)<br><br> Li: 0.0<br> Fe: 0.47619<br> O: 0.52381",
          "Fe<sub>11</sub>O<sub>12</sub> (mp-705417-GGA+U) <br>  Formation energy: -1.718 eV/atom <br>  Energy Above Hull: (+0.05 eV/atom)<br><br> Li: 0.0<br> Fe: 0.478261<br> O: 0.521739",
          "Fe<sub>12</sub>O<sub>13</sub> (mp-764326-GGA+U) <br>  Formation energy: -1.681 eV/atom <br>  Energy Above Hull: (+0.083 eV/atom)<br><br> Li: 0.0<br> Fe: 0.48<br> O: 0.52",
          "Fe<sub>13</sub>O<sub>14</sub> (mp-705414-GGA+U) <br>  Formation energy: -1.69 eV/atom <br>  Energy Above Hull: (+0.072 eV/atom)<br><br> Li: 0.0<br> Fe: 0.481481<br> O: 0.518519",
          "Fe<sub>13</sub>O<sub>15</sub> (mp-756693-GGA+U) <br>  Formation energy: -1.715 eV/atom <br>  Energy Above Hull: (+0.078 eV/atom)<br><br> Li: 0.0<br> Fe: 0.464286<br> O: 0.535714",
          "Fe<sub>14</sub>O<sub>15</sub> (mp-764417-GGA+U) <br>  Formation energy: -1.7 eV/atom <br>  Energy Above Hull: (+0.059 eV/atom)<br><br> Li: 0.0<br> Fe: 0.482759<br> O: 0.517241",
          "Fe<sub>15</sub>O<sub>16</sub> (mp-705551-GGA+U) <br>  Formation energy: -1.68 eV/atom <br>  Energy Above Hull: (+0.077 eV/atom)<br><br> Li: 0.0<br> Fe: 0.483871<br> O: 0.516129",
          "Fe<sub>15</sub>O<sub>16</sub> (mp-1224936-GGA+U) <br>  Formation energy: -1.673 eV/atom <br>  Energy Above Hull: (+0.084 eV/atom)<br><br> Li: 0.0<br> Fe: 0.483871<br> O: 0.516129",
          "Fe<sub>17</sub>O<sub>18</sub> (mp-705424-GGA+U) <br>  Formation energy: -1.714 eV/atom <br>  Energy Above Hull: (+0.04 eV/atom)<br><br> Li: 0.0<br> Fe: 0.485714<br> O: 0.514286",
          "Fe<sub>21</sub>O<sub>23</sub> (mp-706875-GGA+U) <br>  Formation energy: -1.716 eV/atom <br>  Energy Above Hull: (+0.053 eV/atom)<br><br> Li: 0.0<br> Fe: 0.477273<br> O: 0.522727",
          "Fe<sub>21</sub>O<sub>32</sub> (mp-530048-GGA+U) <br>  Formation energy: -1.695 eV/atom <br>  Energy Above Hull: (+0.195 eV/atom)<br><br> Li: 0.0<br> Fe: 0.396226<br> O: 0.603774",
          "Fe<sub>23</sub>O<sub>25</sub> (mp-705553-GGA+U) <br>  Formation energy: -1.716 eV/atom <br>  Energy Above Hull: (+0.05 eV/atom)<br><br> Li: 0.0<br> Fe: 0.479167<br> O: 0.520833",
          "Fe<sub>23</sub>O<sub>32</sub> (mp-776135-GGA+U) <br>  Formation energy: -1.767 eV/atom <br>  Energy Above Hull: (+0.109 eV/atom)<br><br> Li: 0.0<br> Fe: 0.418182<br> O: 0.581818",
          "Fe<sub>23</sub>O<sub>32</sub> (mp-774295-GGA+U) <br>  Formation energy: -1.688 eV/atom <br>  Energy Above Hull: (+0.188 eV/atom)<br><br> Li: 0.0<br> Fe: 0.418182<br> O: 0.581818",
          "Fe<sub>25</sub>O<sub>32</sub> (mp-1194978-GGA+U) <br>  Formation energy: -1.655 eV/atom <br>  Energy Above Hull: (+0.185 eV/atom)<br><br> Li: 0.0<br> Fe: 0.438596<br> O: 0.561404",
          "Fe<sub>32</sub>O<sub>35</sub> (mp-863766-GGA+U) <br>  Formation energy: -1.711 eV/atom <br>  Energy Above Hull: (+0.058 eV/atom)<br><br> Li: 0.0<br> Fe: 0.477612<br> O: 0.522388",
          "Fe<sub>38</sub>O<sub>39</sub> (mp-705753-GGA+U) <br>  Formation energy: -1.668 eV/atom <br>  Energy Above Hull: (+0.071 eV/atom)<br><br> Li: 0.0<br> Fe: 0.493506<br> O: 0.506494",
          "Fe<sub>41</sub>O<sub>56</sub> (mp-757565-GGA+U) <br>  Formation energy: -1.782 eV/atom <br>  Energy Above Hull: (+0.087 eV/atom)<br><br> Li: 0.0<br> Fe: 0.42268<br> O: 0.57732",
          "Fe<sub>43</sub>O<sub>64</sub> (mp-530050-GGA+U) <br>  Formation energy: -1.788 eV/atom <br>  Energy Above Hull: (+0.116 eV/atom)<br><br> Li: 0.0<br> Fe: 0.401869<br> O: 0.598131",
          "Li (mp-1063005-GGA) <br>  Formation energy: 0.019 eV/atom <br>  Energy Above Hull: (+0.019 eV/atom)<br><br> Li: 1.0<br> Fe: 0.0<br> O: 0.0",
          "Li (mp-135-GGA) <br>  Formation energy: 0.005 eV/atom <br>  Energy Above Hull: (+0.005 eV/atom)<br><br> Li: 1.0<br> Fe: 0.0<br> O: 0.0",
          "Li (mp-10173-GGA) <br>  Formation energy: 0.003 eV/atom <br>  Energy Above Hull: (+0.003 eV/atom)<br><br> Li: 1.0<br> Fe: 0.0<br> O: 0.0",
          "Li (mp-976411-GGA) <br>  Formation energy: 0.003 eV/atom <br>  Energy Above Hull: (+0.003 eV/atom)<br><br> Li: 1.0<br> Fe: 0.0<br> O: 0.0",
          "Li (mp-51-GGA) <br>  Formation energy: 0.003 eV/atom <br>  Energy Above Hull: (+0.003 eV/atom)<br><br> Li: 1.0<br> Fe: 0.0<br> O: 0.0",
          "Li (mp-567337-GGA) <br>  Formation energy: 0.011 eV/atom <br>  Energy Above Hull: (+0.011 eV/atom)<br><br> Li: 1.0<br> Fe: 0.0<br> O: 0.0",
          "Li (mp-1103107-GGA) <br>  Formation energy: 0.055 eV/atom <br>  Energy Above Hull: (+0.055 eV/atom)<br><br> Li: 1.0<br> Fe: 0.0<br> O: 0.0",
          "LiO<sub>2</sub> (mp-1018789-GGA) <br>  Formation energy: -1.033 eV/atom <br>  Energy Above Hull: (+0.088 eV/atom)<br><br> Li: 0.333333<br> Fe: 0.0<br> O: 0.666667",
          "LiO<sub>8</sub> (mp-1236522-GGA) <br>  Formation energy: -0.344 eV/atom <br>  Energy Above Hull: (+0.07 eV/atom)<br><br> Li: 0.111111<br> Fe: 0.0<br> O: 0.888889",
          "LiO<sub>8</sub> (mp-1236127-GGA) <br>  Formation energy: -0.398 eV/atom <br>  Energy Above Hull: (+0.016 eV/atom)<br><br> Li: 0.111111<br> Fe: 0.0<br> O: 0.888889",
          "LiO<sub>8</sub> (mp-1235185-GGA) <br>  Formation energy: -0.408 eV/atom <br>  Energy Above Hull: (+0.005 eV/atom)<br><br> Li: 0.111111<br> Fe: 0.0<br> O: 0.888889",
          "LiO<sub>8</sub> (mp-1235252-GGA) <br>  Formation energy: -0.404 eV/atom <br>  Energy Above Hull: (+0.009 eV/atom)<br><br> Li: 0.111111<br> Fe: 0.0<br> O: 0.888889",
          "LiO<sub>8</sub> (mp-1235698-GGA) <br>  Formation energy: -0.346 eV/atom <br>  Energy Above Hull: (+0.068 eV/atom)<br><br> Li: 0.111111<br> Fe: 0.0<br> O: 0.888889",
          "LiO<sub>8</sub> (mp-1232999-GGA) <br>  Formation energy: -0.397 eV/atom <br>  Energy Above Hull: (+0.017 eV/atom)<br><br> Li: 0.111111<br> Fe: 0.0<br> O: 0.888889",
          "LiFeO<sub>2</sub> (mp-756527-GGA+U) <br>  Formation energy: -1.994 eV/atom <br>  Energy Above Hull: (+0.078 eV/atom)<br><br> Li: 0.25<br> Fe: 0.25<br> O: 0.5",
          "LiFeO<sub>2</sub> (mp-18782-GGA+U) <br>  Formation energy: -2.052 eV/atom <br>  Energy Above Hull: (+0.02 eV/atom)<br><br> Li: 0.25<br> Fe: 0.25<br> O: 0.5",
          "LiFeO<sub>2</sub> (mp-19419-GGA+U) <br>  Formation energy: -1.997 eV/atom <br>  Energy Above Hull: (+0.075 eV/atom)<br><br> Li: 0.25<br> Fe: 0.25<br> O: 0.5",
          "LiFeO<sub>2</sub> (mp-754977-GGA+U) <br>  Formation energy: -2.033 eV/atom <br>  Energy Above Hull: (+0.039 eV/atom)<br><br> Li: 0.25<br> Fe: 0.25<br> O: 0.5",
          "LiFeO<sub>2</sub> (mp-850511-GGA+U) <br>  Formation energy: -1.992 eV/atom <br>  Energy Above Hull: (+0.08 eV/atom)<br><br> Li: 0.25<br> Fe: 0.25<br> O: 0.5",
          "LiFeO<sub>2</sub> (mp-755709-GGA+U) <br>  Formation energy: -2.071 eV/atom <br>  Energy Above Hull: (+0.001 eV/atom)<br><br> Li: 0.25<br> Fe: 0.25<br> O: 0.5",
          "LiFeO<sub>2</sub> (mp-756497-GGA+U) <br>  Formation energy: -2.044 eV/atom <br>  Energy Above Hull: (+0.027 eV/atom)<br><br> Li: 0.25<br> Fe: 0.25<br> O: 0.5",
          "LiFeO<sub>2</sub> (mp-1222302-GGA+U) <br>  Formation energy: -1.952 eV/atom <br>  Energy Above Hull: (+0.12 eV/atom)<br><br> Li: 0.25<br> Fe: 0.25<br> O: 0.5",
          "LiFeO<sub>3</sub> (mp-752521-GGA+U) <br>  Formation energy: -1.522 eV/atom <br>  Energy Above Hull: (+0.141 eV/atom)<br><br> Li: 0.2<br> Fe: 0.2<br> O: 0.6",
          "LiFeO<sub>3</sub> (mp-760833-GGA+U) <br>  Formation energy: -1.538 eV/atom <br>  Energy Above Hull: (+0.125 eV/atom)<br><br> Li: 0.2<br> Fe: 0.2<br> O: 0.6",
          "LiFeO<sub>3</sub> (mp-756941-GGA+U) <br>  Formation energy: -1.521 eV/atom <br>  Energy Above Hull: (+0.142 eV/atom)<br><br> Li: 0.2<br> Fe: 0.2<br> O: 0.6",
          "LiFeO<sub>3</sub> (mp-752790-GGA+U) <br>  Formation energy: -1.497 eV/atom <br>  Energy Above Hull: (+0.166 eV/atom)<br><br> Li: 0.2<br> Fe: 0.2<br> O: 0.6",
          "LiFe<sub>2</sub>O<sub>3</sub> (mp-1282759-GGA+U) <br>  Formation energy: -1.89 eV/atom <br>  Energy Above Hull: (+0.067 eV/atom)<br><br> Li: 0.166667<br> Fe: 0.333333<br> O: 0.5",
          "LiFe<sub>2</sub>O<sub>3</sub> (mp-1309364-GGA+U) <br>  Formation energy: -1.914 eV/atom <br>  Energy Above Hull: (+0.043 eV/atom)<br><br> Li: 0.166667<br> Fe: 0.333333<br> O: 0.5",
          "LiFe<sub>2</sub>O<sub>3</sub> (mp-756381-GGA+U) <br>  Formation energy: -1.863 eV/atom <br>  Energy Above Hull: (+0.094 eV/atom)<br><br> Li: 0.166667<br> Fe: 0.333333<br> O: 0.5",
          "LiFe<sub>2</sub>O<sub>3</sub> (mp-2411688-GGA+U) <br>  Formation energy: -1.897 eV/atom <br>  Energy Above Hull: (+0.06 eV/atom)<br><br> Li: 0.166667<br> Fe: 0.333333<br> O: 0.5",
          "LiFe<sub>2</sub>O<sub>3</sub> (mp-1298536-GGA+U) <br>  Formation energy: -1.93 eV/atom <br>  Energy Above Hull: (+0.027 eV/atom)<br><br> Li: 0.166667<br> Fe: 0.333333<br> O: 0.5",
          "Li(FeO<sub>2</sub>)<sub>2</sub> (mp-25386-GGA+U) <br>  Formation energy: -1.837 eV/atom <br>  Energy Above Hull: (+0.03 eV/atom)<br><br> Li: 0.142857<br> Fe: 0.285714<br> O: 0.571429",
          "Li(FeO<sub>2</sub>)<sub>2</sub> (mp-1178108-GGA+U) <br>  Formation energy: -1.728 eV/atom <br>  Energy Above Hull: (+0.139 eV/atom)<br><br> Li: 0.142857<br> Fe: 0.285714<br> O: 0.571429",
          "Li(FeO<sub>2</sub>)<sub>2</sub> (mp-754803-GGA+U) <br>  Formation energy: -1.786 eV/atom <br>  Energy Above Hull: (+0.081 eV/atom)<br><br> Li: 0.142857<br> Fe: 0.285714<br> O: 0.571429",
          "Li(FeO<sub>2</sub>)<sub>2</sub> (mp-771571-GGA+U) <br>  Formation energy: -1.793 eV/atom <br>  Energy Above Hull: (+0.074 eV/atom)<br><br> Li: 0.142857<br> Fe: 0.285714<br> O: 0.571429",
          "Li(FeO<sub>2</sub>)<sub>2</sub> (mp-1178103-GGA+U) <br>  Formation energy: -1.786 eV/atom <br>  Energy Above Hull: (+0.081 eV/atom)<br><br> Li: 0.142857<br> Fe: 0.285714<br> O: 0.571429",
          "Li(FeO<sub>2</sub>)<sub>2</sub> (mp-1178122-GGA+U) <br>  Formation energy: -1.768 eV/atom <br>  Energy Above Hull: (+0.099 eV/atom)<br><br> Li: 0.142857<br> Fe: 0.285714<br> O: 0.571429",
          "Li(FeO<sub>2</sub>)<sub>2</sub> (mp-771057-GGA+U) <br>  Formation energy: -1.73 eV/atom <br>  Energy Above Hull: (+0.137 eV/atom)<br><br> Li: 0.142857<br> Fe: 0.285714<br> O: 0.571429",
          "Li(FeO<sub>2</sub>)<sub>2</sub> (mp-773043-GGA+U) <br>  Formation energy: -1.787 eV/atom <br>  Energy Above Hull: (+0.08 eV/atom)<br><br> Li: 0.142857<br> Fe: 0.285714<br> O: 0.571429",
          "Li(FeO<sub>2</sub>)<sub>2</sub> (mp-771135-GGA+U) <br>  Formation energy: -1.81 eV/atom <br>  Energy Above Hull: (+0.057 eV/atom)<br><br> Li: 0.142857<br> Fe: 0.285714<br> O: 0.571429",
          "Li(FeO<sub>2</sub>)<sub>2</sub> (mp-1178106-GGA+U) <br>  Formation energy: -1.796 eV/atom <br>  Energy Above Hull: (+0.071 eV/atom)<br><br> Li: 0.142857<br> Fe: 0.285714<br> O: 0.571429",
          "Li(FeO<sub>2</sub>)<sub>2</sub> (mp-752935-GGA+U) <br>  Formation energy: -1.76 eV/atom <br>  Energy Above Hull: (+0.107 eV/atom)<br><br> Li: 0.142857<br> Fe: 0.285714<br> O: 0.571429",
          "LiFe<sub>3</sub>O<sub>4</sub> (mp-773525-GGA+U) <br>  Formation energy: -1.859 eV/atom <br>  Energy Above Hull: (+0.041 eV/atom)<br><br> Li: 0.125<br> Fe: 0.375<br> O: 0.5",
          "LiFe<sub>3</sub>O<sub>4</sub> (mp-1176726-GGA+U) <br>  Formation energy: -1.86 eV/atom <br>  Energy Above Hull: (+0.039 eV/atom)<br><br> Li: 0.125<br> Fe: 0.375<br> O: 0.5",
          "LiFe<sub>3</sub>O<sub>4</sub> (mp-1101736-GGA+U) <br>  Formation energy: -1.86 eV/atom <br>  Energy Above Hull: (+0.039 eV/atom)<br><br> Li: 0.125<br> Fe: 0.375<br> O: 0.5",
          "LiFe<sub>3</sub>O<sub>4</sub> (mp-772508-GGA+U) <br>  Formation energy: -1.813 eV/atom <br>  Energy Above Hull: (+0.086 eV/atom)<br><br> Li: 0.125<br> Fe: 0.375<br> O: 0.5",
          "Li(FeO<sub>2</sub>)<sub>3</sub> (mp-753154-GGA+U) <br>  Formation energy: -1.668 eV/atom <br>  Energy Above Hull: (+0.117 eV/atom)<br><br> Li: 0.1<br> Fe: 0.3<br> O: 0.6",
          "Li(FeO<sub>2</sub>)<sub>3</sub> (mp-758249-GGA+U) <br>  Formation energy: -1.648 eV/atom <br>  Energy Above Hull: (+0.137 eV/atom)<br><br> Li: 0.1<br> Fe: 0.3<br> O: 0.6",
          "LiFe<sub>5</sub>O<sub>8</sub> (mp-706252-GGA+U) <br>  Formation energy: -1.855 eV/atom <br>  Energy Above Hull: (+0.099 eV/atom)<br><br> Li: 0.071429<br> Fe: 0.357143<br> O: 0.571429",
          "LiFe<sub>5</sub>O<sub>8</sub> (mp-33551-GGA+U) <br>  Formation energy: -1.818 eV/atom <br>  Energy Above Hull: (+0.137 eV/atom)<br><br> Li: 0.071429<br> Fe: 0.357143<br> O: 0.571429",
          "LiFe<sub>5</sub>O<sub>8</sub> (mp-757153-GGA+U) <br>  Formation energy: -1.807 eV/atom <br>  Energy Above Hull: (+0.147 eV/atom)<br><br> Li: 0.071429<br> Fe: 0.357143<br> O: 0.571429",
          "LiFe<sub>5</sub>O<sub>8</sub> (mp-21735-GGA+U) <br>  Formation energy: -1.891 eV/atom <br>  Energy Above Hull: (+0.063 eV/atom)<br><br> Li: 0.071429<br> Fe: 0.357143<br> O: 0.571429",
          "Li(Fe<sub>2</sub>O<sub>3</sub>)<sub>4</sub> (mp-758077-GGA+U) <br>  Formation energy: -1.855 eV/atom <br>  Energy Above Hull: (+0.067 eV/atom)<br><br> Li: 0.047619<br> Fe: 0.380952<br> O: 0.571429",
          "Li(Fe<sub>2</sub>O<sub>3</sub>)<sub>4</sub> (mp-1178121-GGA+U) <br>  Formation energy: -1.853 eV/atom <br>  Energy Above Hull: (+0.069 eV/atom)<br><br> Li: 0.047619<br> Fe: 0.380952<br> O: 0.571429",
          "Li(Fe<sub>2</sub>O<sub>3</sub>)<sub>4</sub> (mp-1235675-GGA+U) <br>  Formation energy: -1.747 eV/atom <br>  Energy Above Hull: (+0.175 eV/atom)<br><br> Li: 0.047619<br> Fe: 0.380952<br> O: 0.571429",
          "Li(Fe<sub>2</sub>O<sub>3</sub>)<sub>4</sub> (mp-1235693-GGA+U) <br>  Formation energy: -1.778 eV/atom <br>  Energy Above Hull: (+0.144 eV/atom)<br><br> Li: 0.047619<br> Fe: 0.380952<br> O: 0.571429",
          "Li(Fe<sub>2</sub>O<sub>3</sub>)<sub>4</sub> (mp-997515-GGA+U) <br>  Formation energy: -1.871 eV/atom <br>  Energy Above Hull: (+0.052 eV/atom)<br><br> Li: 0.047619<br> Fe: 0.380952<br> O: 0.571429",
          "Li(FeO<sub>2</sub>)<sub>8</sub> (mp-1236025-GGA+U) <br>  Formation energy: -1.508 eV/atom <br>  Energy Above Hull: (+0.162 eV/atom)<br><br> Li: 0.04<br> Fe: 0.32<br> O: 0.64",
          "Li(FeO<sub>2</sub>)<sub>8</sub> (mp-1235270-GGA+U) <br>  Formation energy: -1.474 eV/atom <br>  Energy Above Hull: (+0.197 eV/atom)<br><br> Li: 0.04<br> Fe: 0.32<br> O: 0.64",
          "LiFe<sub>23</sub>O<sub>32</sub> (mp-773010-GGA+U) <br>  Formation energy: -1.823 eV/atom <br>  Energy Above Hull: (+0.059 eV/atom)<br><br> Li: 0.017857<br> Fe: 0.410714<br> O: 0.571429",
          "Li<sub>2</sub>O (mp-1245224-GGA) <br>  Formation energy: -1.917 eV/atom <br>  Energy Above Hull: (+0.15 eV/atom)<br><br> Li: 0.666667<br> Fe: 0.0<br> O: 0.333333",
          "Li<sub>2</sub>O (mp-1245092-GGA) <br>  Formation energy: -1.893 eV/atom <br>  Energy Above Hull: (+0.173 eV/atom)<br><br> Li: 0.666667<br> Fe: 0.0<br> O: 0.333333",
          "Li<sub>2</sub>O (mp-755894-GGA) <br>  Formation energy: -1.982 eV/atom <br>  Energy Above Hull: (+0.085 eV/atom)<br><br> Li: 0.666667<br> Fe: 0.0<br> O: 0.333333",
          "Li<sub>2</sub>O (mp-1245303-GGA) <br>  Formation energy: -1.908 eV/atom <br>  Energy Above Hull: (+0.159 eV/atom)<br><br> Li: 0.666667<br> Fe: 0.0<br> O: 0.333333",
          "Li<sub>2</sub>O (mp-1245009-GGA) <br>  Formation energy: -1.905 eV/atom <br>  Energy Above Hull: (+0.162 eV/atom)<br><br> Li: 0.666667<br> Fe: 0.0<br> O: 0.333333",
          "Li<sub>2</sub>O<sub>2</sub> (mp-558312-GGA) <br>  Formation energy: -1.508 eV/atom <br>  Energy Above Hull: (+0.143 eV/atom)<br><br> Li: 0.5<br> Fe: 0.0<br> O: 0.5",
          "Li<sub>2</sub>FeO<sub>2</sub> (mp-1177943-GGA+U) <br>  Formation energy: -1.938 eV/atom <br>  Energy Above Hull: (+0.042 eV/atom)<br><br> Li: 0.4<br> Fe: 0.2<br> O: 0.4",
          "Li<sub>2</sub>FeO<sub>2</sub> (mp-1272755-GGA+U) <br>  Formation energy: -1.937 eV/atom <br>  Energy Above Hull: (+0.042 eV/atom)<br><br> Li: 0.4<br> Fe: 0.2<br> O: 0.4",
          "Li<sub>2</sub>FeO<sub>2</sub> (mp-754868-GGA+U) <br>  Formation energy: -1.927 eV/atom <br>  Energy Above Hull: (+0.053 eV/atom)<br><br> Li: 0.4<br> Fe: 0.2<br> O: 0.4",
          "Li<sub>2</sub>FeO<sub>3</sub> (mp-759394-GGA+U) <br>  Formation energy: -1.898 eV/atom <br>  Energy Above Hull: (+0.067 eV/atom)<br><br> Li: 0.333333<br> Fe: 0.166667<br> O: 0.5",
          "Li<sub>2</sub>FeO<sub>3</sub> (mp-887724-GGA+U) <br>  Formation energy: -1.962 eV/atom <br>  Energy Above Hull: (+0.004 eV/atom)<br><br> Li: 0.333333<br> Fe: 0.166667<br> O: 0.5",
          "Li<sub>2</sub>FeO<sub>3</sub> (mp-849695-GGA+U) <br>  Formation energy: -1.907 eV/atom <br>  Energy Above Hull: (+0.058 eV/atom)<br><br> Li: 0.333333<br> Fe: 0.166667<br> O: 0.5",
          "Li<sub>2</sub>FeO<sub>3</sub> (mp-1303136-GGA+U) <br>  Formation energy: -1.964 eV/atom <br>  Energy Above Hull: (+0.001 eV/atom)<br><br> Li: 0.333333<br> Fe: 0.166667<br> O: 0.5",
          "Li<sub>2</sub>(FeO<sub>2</sub>)<sub>3</sub> (mp-1178060-GGA+U) <br>  Formation energy: -1.849 eV/atom <br>  Energy Above Hull: (+0.092 eV/atom)<br><br> Li: 0.181818<br> Fe: 0.272727<br> O: 0.545455",
          "Li<sub>2</sub>(FeO<sub>2</sub>)<sub>3</sub> (mp-758515-GGA+U) <br>  Formation energy: -1.816 eV/atom <br>  Energy Above Hull: (+0.125 eV/atom)<br><br> Li: 0.181818<br> Fe: 0.272727<br> O: 0.545455",
          "Li<sub>2</sub>(FeO<sub>2</sub>)<sub>3</sub> (mp-762575-GGA+U) <br>  Formation energy: -1.869 eV/atom <br>  Energy Above Hull: (+0.073 eV/atom)<br><br> Li: 0.181818<br> Fe: 0.272727<br> O: 0.545455",
          "Li<sub>2</sub>(FeO<sub>2</sub>)<sub>3</sub> (mp-752883-GGA+U) <br>  Formation energy: -1.88 eV/atom <br>  Energy Above Hull: (+0.061 eV/atom)<br><br> Li: 0.181818<br> Fe: 0.272727<br> O: 0.545455",
          "Li<sub>2</sub>(FeO<sub>2</sub>)<sub>5</sub> (mp-762529-GGA+U) <br>  Formation energy: -1.687 eV/atom <br>  Energy Above Hull: (+0.132 eV/atom)<br><br> Li: 0.117647<br> Fe: 0.294118<br> O: 0.588235",
          "Li<sub>3</sub>FeO<sub>3</sub> (mp-770886-GGA+U) <br>  Formation energy: -2.043 eV/atom <br>  Energy Above Hull: (+0.046 eV/atom)<br><br> Li: 0.428571<br> Fe: 0.142857<br> O: 0.428571",
          "Li<sub>3</sub>FeO<sub>3</sub> (mp-771894-GGA+U) <br>  Formation energy: -2.015 eV/atom <br>  Energy Above Hull: (+0.074 eV/atom)<br><br> Li: 0.428571<br> Fe: 0.142857<br> O: 0.428571",
          "Li<sub>3</sub>FeO<sub>3</sub> (mp-770885-GGA+U) <br>  Formation energy: -2.02 eV/atom <br>  Energy Above Hull: (+0.069 eV/atom)<br><br> Li: 0.428571<br> Fe: 0.142857<br> O: 0.428571",
          "Li<sub>3</sub>FeO<sub>3</sub> (mp-1663732-GGA+U) <br>  Formation energy: -2.011 eV/atom <br>  Energy Above Hull: (+0.078 eV/atom)<br><br> Li: 0.428571<br> Fe: 0.142857<br> O: 0.428571",
          "Li<sub>3</sub>FeO<sub>3</sub> (mp-1665973-GGA+U) <br>  Formation energy: -1.969 eV/atom <br>  Energy Above Hull: (+0.12 eV/atom)<br><br> Li: 0.428571<br> Fe: 0.142857<br> O: 0.428571",
          "Li<sub>3</sub>FeO<sub>4</sub> (mp-1279318-GGA+U) <br>  Formation energy: -1.82 eV/atom <br>  Energy Above Hull: (+0.067 eV/atom)<br><br> Li: 0.375<br> Fe: 0.125<br> O: 0.5",
          "Li<sub>3</sub>FeO<sub>4</sub> (mp-754360-GGA+U) <br>  Formation energy: -1.827 eV/atom <br>  Energy Above Hull: (+0.06 eV/atom)<br><br> Li: 0.375<br> Fe: 0.125<br> O: 0.5",
          "Li<sub>3</sub>FeO<sub>4</sub> (mp-760335-GGA+U) <br>  Formation energy: -1.831 eV/atom <br>  Energy Above Hull: (+0.056 eV/atom)<br><br> Li: 0.375<br> Fe: 0.125<br> O: 0.5",
          "Li<sub>3</sub>FeO<sub>4</sub> (mp-1282942-GGA+U) <br>  Formation energy: -1.829 eV/atom <br>  Energy Above Hull: (+0.057 eV/atom)<br><br> Li: 0.375<br> Fe: 0.125<br> O: 0.5",
          "Li<sub>3</sub>FeO<sub>4</sub> (mp-849528-GGA+U) <br>  Formation energy: -1.872 eV/atom <br>  Energy Above Hull: (+0.015 eV/atom)<br><br> Li: 0.375<br> Fe: 0.125<br> O: 0.5",
          "Li<sub>3</sub>FeO<sub>4</sub> (mp-764163-GGA+U) <br>  Formation energy: -1.831 eV/atom <br>  Energy Above Hull: (+0.056 eV/atom)<br><br> Li: 0.375<br> Fe: 0.125<br> O: 0.5",
          "Li<sub>3</sub>FeO<sub>4</sub> (mp-1276702-GGA+U) <br>  Formation energy: -1.827 eV/atom <br>  Energy Above Hull: (+0.06 eV/atom)<br><br> Li: 0.375<br> Fe: 0.125<br> O: 0.5",
          "Li<sub>3</sub>(FeO<sub>3</sub>)<sub>2</sub> (mp-755242-GGA+U) <br>  Formation energy: -1.736 eV/atom <br>  Energy Above Hull: (+0.092 eV/atom)<br><br> Li: 0.272727<br> Fe: 0.181818<br> O: 0.545455",
          "Li<sub>3</sub>(FeO<sub>3</sub>)<sub>2</sub> (mp-760809-GGA+U) <br>  Formation energy: -1.762 eV/atom <br>  Energy Above Hull: (+0.067 eV/atom)<br><br> Li: 0.272727<br> Fe: 0.181818<br> O: 0.545455",
          "Li<sub>3</sub>(FeO<sub>3</sub>)<sub>2</sub> (mp-752654-GGA+U) <br>  Formation energy: -1.762 eV/atom <br>  Energy Above Hull: (+0.067 eV/atom)<br><br> Li: 0.272727<br> Fe: 0.181818<br> O: 0.545455",
          "Li<sub>3</sub>(FeO<sub>3</sub>)<sub>2</sub> (mp-1272244-GGA+U) <br>  Formation energy: -1.76 eV/atom <br>  Energy Above Hull: (+0.068 eV/atom)<br><br> Li: 0.272727<br> Fe: 0.181818<br> O: 0.545455",
          "Li<sub>3</sub>(FeO<sub>3</sub>)<sub>2</sub> (mp-753133-GGA+U) <br>  Formation energy: -1.753 eV/atom <br>  Energy Above Hull: (+0.075 eV/atom)<br><br> Li: 0.272727<br> Fe: 0.181818<br> O: 0.545455",
          "Li<sub>3</sub>(FeO<sub>3</sub>)<sub>2</sub> (mp-1305099-GGA+U) <br>  Formation energy: -1.761 eV/atom <br>  Energy Above Hull: (+0.067 eV/atom)<br><br> Li: 0.272727<br> Fe: 0.181818<br> O: 0.545455",
          "Li<sub>3</sub>(FeO<sub>3</sub>)<sub>2</sub> (mp-1276910-GGA+U) <br>  Formation energy: -1.758 eV/atom <br>  Energy Above Hull: (+0.07 eV/atom)<br><br> Li: 0.272727<br> Fe: 0.181818<br> O: 0.545455",
          "Li<sub>3</sub>(FeO<sub>3</sub>)<sub>2</sub> (mp-1286090-GGA+U) <br>  Formation energy: -1.757 eV/atom <br>  Energy Above Hull: (+0.071 eV/atom)<br><br> Li: 0.272727<br> Fe: 0.181818<br> O: 0.545455",
          "Li<sub>3</sub>(FeO<sub>3</sub>)<sub>2</sub> (mp-1177753-GGA+U) <br>  Formation energy: -1.762 eV/atom <br>  Energy Above Hull: (+0.066 eV/atom)<br><br> Li: 0.272727<br> Fe: 0.181818<br> O: 0.545455",
          "Li<sub>3</sub>Fe<sub>3</sub>O<sub>8</sub> (mp-756816-GGA+U) <br>  Formation energy: -1.634 eV/atom <br>  Energy Above Hull: (+0.145 eV/atom)<br><br> Li: 0.214286<br> Fe: 0.214286<br> O: 0.571429",
          "Li<sub>3</sub>Fe<sub>3</sub>O<sub>8</sub> (mp-756955-GGA+U) <br>  Formation energy: -1.675 eV/atom <br>  Energy Above Hull: (+0.104 eV/atom)<br><br> Li: 0.214286<br> Fe: 0.214286<br> O: 0.571429",
          "Li<sub>3</sub>Fe<sub>3</sub>O<sub>8</sub> (mp-1273581-GGA+U) <br>  Formation energy: -1.715 eV/atom <br>  Energy Above Hull: (+0.064 eV/atom)<br><br> Li: 0.214286<br> Fe: 0.214286<br> O: 0.571429",
          "Li<sub>3</sub>Fe<sub>3</sub>O<sub>8</sub> (mp-1308681-GGA+U) <br>  Formation energy: -1.714 eV/atom <br>  Energy Above Hull: (+0.065 eV/atom)<br><br> Li: 0.214286<br> Fe: 0.214286<br> O: 0.571429",
          "Li<sub>3</sub>Fe<sub>3</sub>O<sub>8</sub> (mp-1177704-GGA+U) <br>  Formation energy: -1.677 eV/atom <br>  Energy Above Hull: (+0.102 eV/atom)<br><br> Li: 0.214286<br> Fe: 0.214286<br> O: 0.571429",
          "Li<sub>3</sub>Fe<sub>3</sub>O<sub>8</sub> (mp-1299455-GGA+U) <br>  Formation energy: -1.716 eV/atom <br>  Energy Above Hull: (+0.064 eV/atom)<br><br> Li: 0.214286<br> Fe: 0.214286<br> O: 0.571429",
          "Li<sub>3</sub>Fe<sub>3</sub>O<sub>8</sub> (mp-758388-GGA+U) <br>  Formation energy: -1.71 eV/atom <br>  Energy Above Hull: (+0.069 eV/atom)<br><br> Li: 0.214286<br> Fe: 0.214286<br> O: 0.571429",
          "Li<sub>3</sub>(FeO<sub>2</sub>)<sub>4</sub> (mp-756480-GGA+U) <br>  Formation energy: -1.942 eV/atom <br>  Energy Above Hull: (+0.034 eV/atom)<br><br> Li: 0.2<br> Fe: 0.266667<br> O: 0.533333",
          "Li<sub>3</sub>(FeO<sub>2</sub>)<sub>4</sub> (mp-753083-GGA+U) <br>  Formation energy: -1.855 eV/atom <br>  Energy Above Hull: (+0.121 eV/atom)<br><br> Li: 0.2<br> Fe: 0.266667<br> O: 0.533333",
          "Li<sub>3</sub>(FeO<sub>2</sub>)<sub>4</sub> (mp-758469-GGA+U) <br>  Formation energy: -1.88 eV/atom <br>  Energy Above Hull: (+0.097 eV/atom)<br><br> Li: 0.2<br> Fe: 0.266667<br> O: 0.533333",
          "Li<sub>3</sub>Fe<sub>5</sub>O<sub>8</sub> (mp-586092-GGA+U) <br>  Formation energy: -1.935 eV/atom <br>  Energy Above Hull: (+0.051 eV/atom)<br><br> Li: 0.1875<br> Fe: 0.3125<br> O: 0.5",
          "Li<sub>3</sub>Fe<sub>5</sub>O<sub>9</sub> (mp-770655-GGA+U) <br>  Formation energy: -1.947 eV/atom <br>  Energy Above Hull: (+0.076 eV/atom)<br><br> Li: 0.176471<br> Fe: 0.294118<br> O: 0.529412",
          "Li<sub>3</sub>(FeO<sub>2</sub>)<sub>5</sub> (mp-752476-GGA+U) <br>  Formation energy: -1.833 eV/atom <br>  Energy Above Hull: (+0.079 eV/atom)<br><br> Li: 0.166667<br> Fe: 0.277778<br> O: 0.555556",
          "Li<sub>3</sub>Fe<sub>5</sub>O<sub>12</sub> (mp-758559-GGA+U) <br>  Formation energy: -1.575 eV/atom <br>  Energy Above Hull: (+0.149 eV/atom)<br><br> Li: 0.15<br> Fe: 0.25<br> O: 0.6",
          "Li<sub>3</sub>Fe<sub>5</sub>O<sub>12</sub> (mp-755806-GGA+U) <br>  Formation energy: -1.583 eV/atom <br>  Energy Above Hull: (+0.141 eV/atom)<br><br> Li: 0.15<br> Fe: 0.25<br> O: 0.6",
          "Li<sub>3</sub>Fe<sub>5</sub>O<sub>12</sub> (mp-759319-GGA+U) <br>  Formation energy: -1.583 eV/atom <br>  Energy Above Hull: (+0.141 eV/atom)<br><br> Li: 0.15<br> Fe: 0.25<br> O: 0.6",
          "Li<sub>3</sub>Fe<sub>7</sub>O<sub>12</sub> (mp-752897-GGA+U) <br>  Formation energy: -1.89 eV/atom <br>  Energy Above Hull: (+0.107 eV/atom)<br><br> Li: 0.136364<br> Fe: 0.318182<br> O: 0.545455",
          "Li<sub>4</sub>FeO<sub>3</sub> (mp-752680-GGA+U) <br>  Formation energy: -1.972 eV/atom <br>  Energy Above Hull: (+0.04 eV/atom)<br><br> Li: 0.5<br> Fe: 0.125<br> O: 0.375",
          "Li<sub>4</sub>FeO<sub>4</sub> (mp-755232-GGA+U) <br>  Formation energy: -1.934 eV/atom <br>  Energy Above Hull: (+0.068 eV/atom)<br><br> Li: 0.444444<br> Fe: 0.111111<br> O: 0.444444",
          "Li<sub>4</sub>Fe<sub>2</sub>O<sub>5</sub> (mp-770893-GGA+U) <br>  Formation energy: -2.009 eV/atom <br>  Energy Above Hull: (+0.074 eV/atom)<br><br> Li: 0.363636<br> Fe: 0.181818<br> O: 0.454545",
          "Li<sub>4</sub>Fe<sub>2</sub>O<sub>5</sub> (mp-760830-GGA+U) <br>  Formation energy: -2.034 eV/atom <br>  Energy Above Hull: (+0.048 eV/atom)<br><br> Li: 0.363636<br> Fe: 0.181818<br> O: 0.454545",
          "Li<sub>4</sub>Fe<sub>3</sub>O<sub>8</sub> (mp-771986-GGA+U) <br>  Formation energy: -1.804 eV/atom <br>  Energy Above Hull: (+0.09 eV/atom)<br><br> Li: 0.266667<br> Fe: 0.2<br> O: 0.533333",
          "Li<sub>4</sub>Fe<sub>3</sub>O<sub>8</sub> (mp-775127-GGA+U) <br>  Formation energy: -1.829 eV/atom <br>  Energy Above Hull: (+0.065 eV/atom)<br><br> Li: 0.266667<br> Fe: 0.2<br> O: 0.533333",
          "Li<sub>4</sub>Fe<sub>3</sub>O<sub>8</sub> (mp-757201-GGA+U) <br>  Formation energy: -1.722 eV/atom <br>  Energy Above Hull: (+0.172 eV/atom)<br><br> Li: 0.266667<br> Fe: 0.2<br> O: 0.533333",
          "Li<sub>4</sub>(FeO<sub>2</sub>)<sub>5</sub> (mp-752950-GGA+U) <br>  Formation energy: -1.944 eV/atom <br>  Energy Above Hull: (+0.052 eV/atom)<br><br> Li: 0.210526<br> Fe: 0.263158<br> O: 0.526316",
          "Li<sub>4</sub>Fe<sub>7</sub>O<sub>12</sub> (mp-759241-GGA+U) <br>  Formation energy: -1.951 eV/atom <br>  Energy Above Hull: (+0.055 eV/atom)<br><br> Li: 0.173913<br> Fe: 0.304348<br> O: 0.521739",
          "Li<sub>4</sub>(FeO<sub>2</sub>)<sub>9</sub> (mp-771396-GGA+U) <br>  Formation energy: -1.727 eV/atom <br>  Energy Above Hull: (+0.113 eV/atom)<br><br> Li: 0.129032<br> Fe: 0.290323<br> O: 0.580645",
          "Li<sub>5</sub>FeO<sub>4</sub> (mp-780207-GGA+U) <br>  Formation energy: -2.039 eV/atom <br>  Energy Above Hull: (+0.057 eV/atom)<br><br> Li: 0.5<br> Fe: 0.1<br> O: 0.4",
          "Li<sub>5</sub>FeO<sub>4</sub> (mp-779333-GGA+U) <br>  Formation energy: -2.026 eV/atom <br>  Energy Above Hull: (+0.069 eV/atom)<br><br> Li: 0.5<br> Fe: 0.1<br> O: 0.4",
          "Li<sub>5</sub>FeO<sub>4</sub> (mp-780192-GGA+U) <br>  Formation energy: -2.049 eV/atom <br>  Energy Above Hull: (+0.047 eV/atom)<br><br> Li: 0.5<br> Fe: 0.1<br> O: 0.4",
          "Li<sub>5</sub>FeO<sub>4</sub> (mp-770923-GGA+U) <br>  Formation energy: -2.024 eV/atom <br>  Energy Above Hull: (+0.071 eV/atom)<br><br> Li: 0.5<br> Fe: 0.1<br> O: 0.4",
          "Li<sub>5</sub>FeO<sub>4</sub> (mp-779889-GGA+U) <br>  Formation energy: -2.008 eV/atom <br>  Energy Above Hull: (+0.088 eV/atom)<br><br> Li: 0.5<br> Fe: 0.1<br> O: 0.4",
          "Li<sub>5</sub>FeO<sub>4</sub> (mp-770834-GGA+U) <br>  Formation energy: -2.05 eV/atom <br>  Energy Above Hull: (+0.046 eV/atom)<br><br> Li: 0.5<br> Fe: 0.1<br> O: 0.4",
          "Li<sub>5</sub>Fe<sub>3</sub>O<sub>8</sub> (mp-1177185-GGA+U) <br>  Formation energy: -1.942 eV/atom <br>  Energy Above Hull: (+0.05 eV/atom)<br><br> Li: 0.3125<br> Fe: 0.1875<br> O: 0.5",
          "Li<sub>5</sub>Fe<sub>3</sub>O<sub>8</sub> (mp-780216-GGA+U) <br>  Formation energy: -1.941 eV/atom <br>  Energy Above Hull: (+0.05 eV/atom)<br><br> Li: 0.3125<br> Fe: 0.1875<br> O: 0.5",
          "Li<sub>5</sub>(FeO<sub>2</sub>)<sub>4</sub> (mp-780312-GGA+U) <br>  Formation energy: -1.968 eV/atom <br>  Energy Above Hull: (+0.077 eV/atom)<br><br> Li: 0.294118<br> Fe: 0.235294<br> O: 0.470588",
          "Li<sub>5</sub>(FeO<sub>2</sub>)<sub>4</sub> (mp-754802-GGA+U) <br>  Formation energy: -1.967 eV/atom <br>  Energy Above Hull: (+0.077 eV/atom)<br><br> Li: 0.294118<br> Fe: 0.235294<br> O: 0.470588",
          "Li<sub>5</sub>Fe<sub>5</sub>O<sub>12</sub> (mp-758794-GGA+U) <br>  Formation energy: -1.822 eV/atom <br>  Energy Above Hull: (+0.064 eV/atom)<br><br> Li: 0.227273<br> Fe: 0.227273<br> O: 0.545455",
          "Li<sub>5</sub>Fe<sub>5</sub>O<sub>12</sub> (mp-759022-GGA+U) <br>  Formation energy: -1.828 eV/atom <br>  Energy Above Hull: (+0.058 eV/atom)<br><br> Li: 0.227273<br> Fe: 0.227273<br> O: 0.545455",
          "Li<sub>5</sub>Fe<sub>5</sub>O<sub>12</sub> (mp-771687-GGA+U) <br>  Formation energy: -1.794 eV/atom <br>  Energy Above Hull: (+0.092 eV/atom)<br><br> Li: 0.227273<br> Fe: 0.227273<br> O: 0.545455",
          "Li<sub>5</sub>Fe<sub>7</sub>O<sub>12</sub> (mp-756856-GGA+U) <br>  Formation energy: -1.99 eV/atom <br>  Energy Above Hull: (+0.025 eV/atom)<br><br> Li: 0.208333<br> Fe: 0.291667<br> O: 0.5",
          "Li<sub>5</sub>Fe<sub>11</sub>O<sub>16</sub> (mp-758105-GGA+U) <br>  Formation energy: -1.893 eV/atom <br>  Energy Above Hull: (+0.05 eV/atom)<br><br> Li: 0.15625<br> Fe: 0.34375<br> O: 0.5",
          "Li<sub>5</sub>Fe<sub>11</sub>O<sub>16</sub> (mp-766727-GGA+U) <br>  Formation energy: -1.92 eV/atom <br>  Energy Above Hull: (+0.023 eV/atom)<br><br> Li: 0.15625<br> Fe: 0.34375<br> O: 0.5",
          "Li<sub>5</sub>Fe<sub>11</sub>O<sub>16</sub> (mp-762692-GGA+U) <br>  Formation energy: -1.9 eV/atom <br>  Energy Above Hull: (+0.042 eV/atom)<br><br> Li: 0.15625<br> Fe: 0.34375<br> O: 0.5",
          "Li<sub>6</sub>FeO<sub>4</sub> (mp-756155-GGA+U) <br>  Formation energy: -2.011 eV/atom <br>  Energy Above Hull: (+0.016 eV/atom)<br><br> Li: 0.545455<br> Fe: 0.090909<br> O: 0.363636",
          "Li<sub>6</sub>FeO<sub>6</sub> (mp-771897-GGA+U) <br>  Formation energy: -1.822 eV/atom <br>  Energy Above Hull: (+0.072 eV/atom)<br><br> Li: 0.461538<br> Fe: 0.076923<br> O: 0.461538",
          "Li<sub>6</sub>Fe<sub>3</sub>O<sub>8</sub> (mp-1177119-GGA+U) <br>  Formation energy: -1.93 eV/atom <br>  Energy Above Hull: (+0.112 eV/atom)<br><br> Li: 0.352941<br> Fe: 0.176471<br> O: 0.470588",
          "Li<sub>6</sub>Fe<sub>5</sub>O<sub>12</sub> (mp-780188-GGA+U) <br>  Formation energy: -1.922 eV/atom <br>  Energy Above Hull: (+0.034 eV/atom)<br><br> Li: 0.26087<br> Fe: 0.217391<br> O: 0.521739",
          "Li<sub>6</sub>Fe<sub>5</sub>O<sub>12</sub> (mp-780305-GGA+U) <br>  Formation energy: -1.897 eV/atom <br>  Energy Above Hull: (+0.058 eV/atom)<br><br> Li: 0.26087<br> Fe: 0.217391<br> O: 0.521739",
          "Li<sub>6</sub>Fe<sub>7</sub>O<sub>15</sub> (mp-758888-GGA+U) <br>  Formation energy: -1.83 eV/atom <br>  Energy Above Hull: (+0.117 eV/atom)<br><br> Li: 0.214286<br> Fe: 0.25<br> O: 0.535714",
          "Li<sub>7</sub>FeO<sub>6</sub> (mp-752471-GGA+U) <br>  Formation energy: -1.916 eV/atom <br>  Energy Above Hull: (+0.052 eV/atom)<br><br> Li: 0.5<br> Fe: 0.071429<br> O: 0.428571",
          "Li<sub>7</sub>Fe<sub>3</sub>O<sub>8</sub> (mp-771124-GGA+U) <br>  Formation energy: -1.997 eV/atom <br>  Energy Above Hull: (+0.088 eV/atom)<br><br> Li: 0.388889<br> Fe: 0.166667<br> O: 0.444444",
          "Li<sub>7</sub>Fe<sub>3</sub>O<sub>10</sub> (mp-1176887-GGA+U) <br>  Formation energy: -1.851 eV/atom <br>  Energy Above Hull: (+0.083 eV/atom)<br><br> Li: 0.35<br> Fe: 0.15<br> O: 0.5",
          "Li<sub>7</sub>Fe<sub>5</sub>O<sub>12</sub> (mp-756862-GGA+U) <br>  Formation energy: -2.003 eV/atom <br>  Energy Above Hull: (+0.016 eV/atom)<br><br> Li: 0.291667<br> Fe: 0.208333<br> O: 0.5",
          "Li<sub>7</sub>Fe<sub>5</sub>O<sub>12</sub> (mp-1176882-GGA+U) <br>  Formation energy: -1.988 eV/atom <br>  Energy Above Hull: (+0.031 eV/atom)<br><br> Li: 0.291667<br> Fe: 0.208333<br> O: 0.5",
          "Li<sub>7</sub>Fe<sub>5</sub>O<sub>16</sub> (mp-1176883-GGA+U) <br>  Formation energy: -1.591 eV/atom <br>  Energy Above Hull: (+0.144 eV/atom)<br><br> Li: 0.25<br> Fe: 0.178571<br> O: 0.571429",
          "Li<sub>8</sub>FeO<sub>6</sub> (mp-763305-GGA+U) <br>  Formation energy: -2.007 eV/atom <br>  Energy Above Hull: (+0.024 eV/atom)<br><br> Li: 0.533333<br> Fe: 0.066667<br> O: 0.4",
          "Li<sub>8</sub>FeO<sub>6</sub> (mp-756356-GGA+U) <br>  Formation energy: -2.002 eV/atom <br>  Energy Above Hull: (+0.028 eV/atom)<br><br> Li: 0.533333<br> Fe: 0.066667<br> O: 0.4",
          "Li<sub>8</sub>Fe<sub>2</sub>O<sub>7</sub> (mp-779474-GGA+U) <br>  Formation energy: -2.023 eV/atom <br>  Energy Above Hull: (+0.07 eV/atom)<br><br> Li: 0.470588<br> Fe: 0.117647<br> O: 0.411765",
          "Li<sub>8</sub>Fe<sub>2</sub>O<sub>9</sub> (mp-772983-GGA+U) <br>  Formation energy: -1.901 eV/atom <br>  Energy Above Hull: (+0.015 eV/atom)<br><br> Li: 0.421053<br> Fe: 0.105263<br> O: 0.473684",
          "Li<sub>8</sub>(FeO<sub>2</sub>)<sub>5</sub> (mp-1638858-GGA+U) <br>  Formation energy: -1.913 eV/atom <br>  Energy Above Hull: (+0.098 eV/atom)<br><br> Li: 0.347826<br> Fe: 0.217391<br> O: 0.434783",
          "Li<sub>8</sub>(FeO<sub>2</sub>)<sub>5</sub> (mp-1643420-GGA+U) <br>  Formation energy: -1.916 eV/atom <br>  Energy Above Hull: (+0.096 eV/atom)<br><br> Li: 0.347826<br> Fe: 0.217391<br> O: 0.434783",
          "Li<sub>8</sub>(FeO<sub>2</sub>)<sub>5</sub> (mp-1643829-GGA+U) <br>  Formation energy: -1.914 eV/atom <br>  Energy Above Hull: (+0.097 eV/atom)<br><br> Li: 0.347826<br> Fe: 0.217391<br> O: 0.434783",
          "Li<sub>8</sub>(FeO<sub>2</sub>)<sub>5</sub> (mp-764936-GGA+U) <br>  Formation energy: -1.908 eV/atom <br>  Energy Above Hull: (+0.103 eV/atom)<br><br> Li: 0.347826<br> Fe: 0.217391<br> O: 0.434783",
          "Li<sub>8</sub>(FeO<sub>2</sub>)<sub>5</sub> (mp-753255-GGA+U) <br>  Formation energy: -1.93 eV/atom <br>  Energy Above Hull: (+0.081 eV/atom)<br><br> Li: 0.347826<br> Fe: 0.217391<br> O: 0.434783",
          "Li<sub>8</sub>Fe<sub>7</sub>O<sub>15</sub> (mp-1176945-GGA+U) <br>  Formation energy: -1.979 eV/atom <br>  Energy Above Hull: (+0.071 eV/atom)<br><br> Li: 0.266667<br> Fe: 0.233333<br> O: 0.5",
          "Li<sub>9</sub>(FeO<sub>4</sub>)<sub>2</sub> (mp-774501-GGA+U) <br>  Formation energy: -1.967 eV/atom <br>  Energy Above Hull: (+0.085 eV/atom)<br><br> Li: 0.473684<br> Fe: 0.105263<br> O: 0.421053",
          "Li<sub>9</sub>(FeO<sub>4</sub>)<sub>2</sub> (mp-759144-GGA+U) <br>  Formation energy: -1.963 eV/atom <br>  Energy Above Hull: (+0.088 eV/atom)<br><br> Li: 0.473684<br> Fe: 0.105263<br> O: 0.421053",
          "Li<sub>9</sub>(FeO<sub>4</sub>)<sub>2</sub> (mp-780203-GGA+U) <br>  Formation energy: -1.979 eV/atom <br>  Energy Above Hull: (+0.073 eV/atom)<br><br> Li: 0.473684<br> Fe: 0.105263<br> O: 0.421053",
          "Li<sub>9</sub>Fe<sub>5</sub>O<sub>12</sub> (mp-764889-GGA+U) <br>  Formation energy: -2.013 eV/atom <br>  Energy Above Hull: (+0.068 eV/atom)<br><br> Li: 0.346154<br> Fe: 0.192308<br> O: 0.461538",
          "Li<sub>9</sub>Fe<sub>23</sub>O<sub>32</sub> (mp-772996-GGA+U) <br>  Formation energy: -1.882 eV/atom <br>  Energy Above Hull: (+0.039 eV/atom)<br><br> Li: 0.140625<br> Fe: 0.359375<br> O: 0.5",
          "Li<sub>10</sub>Fe<sub>21</sub>O<sub>32</sub> (mp-685404-GGA+U) <br>  Formation energy: -1.846 eV/atom <br>  Energy Above Hull: (+0.114 eV/atom)<br><br> Li: 0.15873<br> Fe: 0.333333<br> O: 0.507937",
          "Li<sub>11</sub>(FeO<sub>3</sub>)<sub>4</sub> (mp-849463-GGA+U) <br>  Formation energy: -1.946 eV/atom <br>  Energy Above Hull: (+0.115 eV/atom)<br><br> Li: 0.407407<br> Fe: 0.148148<br> O: 0.444444",
          "Li<sub>12</sub>Fe<sub>5</sub>O<sub>16</sub> (mp-760142-GGA+U) <br>  Formation energy: -1.899 eV/atom <br>  Energy Above Hull: (+0.076 eV/atom)<br><br> Li: 0.363636<br> Fe: 0.151515<br> O: 0.484848",
          "Li<sub>13</sub>(FeO<sub>6</sub>)<sub>2</sub> (mp-753008-GGA+U) <br>  Formation energy: -1.869 eV/atom <br>  Energy Above Hull: (+0.064 eV/atom)<br><br> Li: 0.481481<br> Fe: 0.074074<br> O: 0.444444",
          "Li<sub>14</sub>Fe<sub>4</sub>O<sub>13</sub> (mp-781016-GGA+U) <br>  Formation energy: -1.992 eV/atom <br>  Energy Above Hull: (+0.099 eV/atom)<br><br> Li: 0.451613<br> Fe: 0.129032<br> O: 0.419355",
          "Li<sub>15</sub>(FeO<sub>6</sub>)<sub>2</sub> (mp-758099-GGA+U) <br>  Formation energy: -1.951 eV/atom <br>  Energy Above Hull: (+0.05 eV/atom)<br><br> Li: 0.517241<br> Fe: 0.068966<br> O: 0.413793",
          "Li<sub>15</sub>(FeO<sub>4</sub>)<sub>4</sub> (mp-766829-GGA+U) <br>  Formation energy: -1.86 eV/atom <br>  Energy Above Hull: (+0.116 eV/atom)<br><br> Li: 0.428571<br> Fe: 0.114286<br> O: 0.457143",
          "Li<sub>21</sub>(FeO<sub>4</sub>)<sub>4</sub> (mp-769519-GGA+U) <br>  Formation energy: -2.051 eV/atom <br>  Energy Above Hull: (+0.026 eV/atom)<br><br> Li: 0.512195<br> Fe: 0.097561<br> O: 0.390244",
          "Li<sub>35</sub>(FeO<sub>4</sub>)<sub>8</sub> (mp-850218-GGA+U) <br>  Formation energy: -1.993 eV/atom <br>  Energy Above Hull: (+0.047 eV/atom)<br><br> Li: 0.466667<br> Fe: 0.106667<br> O: 0.426667"
         ],
         "marker": {
          "color": [
           0.126,
           0.001,
           0.018,
           0.01,
           0.002,
           0.03,
           0.121,
           0.012,
           0.175,
           0.148,
           0.017,
           0.099,
           0.098,
           0.055,
           0.012,
           0.087,
           0.111,
           0.104,
           0.009,
           0.113,
           0.116,
           0.014,
           0.184,
           0.177,
           0.178,
           0.165,
           0.143,
           0.123,
           0.085,
           0.071,
           0.168,
           0.119,
           0.177,
           0.113,
           0.16,
           0.086,
           0.116,
           0.077,
           0.131,
           0.059,
           0.062,
           0.131,
           0.133,
           0.029,
           0.052,
           0.078,
           0.075,
           0.177,
           0.124,
           0.146,
           0.017,
           0.114,
           0.109,
           0.079,
           0.075,
           0.076,
           0.114,
           0.024,
           0.04,
           0.037,
           0.048,
           0.059,
           0.108,
           0.09,
           0.171,
           0.181,
           0.163,
           0.185,
           0.099,
           0.064,
           0.05,
           0.062,
           0.04,
           0.045,
           0.057,
           0.05,
           0.083,
           0.072,
           0.078,
           0.059,
           0.077,
           0.084,
           0.04,
           0.053,
           0.195,
           0.05,
           0.109,
           0.188,
           0.185,
           0.058,
           0.071,
           0.087,
           0.116,
           0.019,
           0.005,
           0.003,
           0.003,
           0.003,
           0.011,
           0.055,
           0.088,
           0.07,
           0.016,
           0.005,
           0.009,
           0.068,
           0.017,
           0.078,
           0.02,
           0.075,
           0.039,
           0.08,
           0.001,
           0.027,
           0.12,
           0.141,
           0.125,
           0.142,
           0.166,
           0.067,
           0.043,
           0.094,
           0.06,
           0.027,
           0.03,
           0.139,
           0.081,
           0.074,
           0.081,
           0.099,
           0.137,
           0.08,
           0.057,
           0.071,
           0.107,
           0.041,
           0.039,
           0.039,
           0.086,
           0.117,
           0.137,
           0.099,
           0.137,
           0.147,
           0.063,
           0.067,
           0.069,
           0.175,
           0.144,
           0.052,
           0.162,
           0.197,
           0.059,
           0.15,
           0.173,
           0.085,
           0.159,
           0.162,
           0.143,
           0.042,
           0.042,
           0.053,
           0.067,
           0.004,
           0.058,
           0.001,
           0.092,
           0.125,
           0.073,
           0.061,
           0.132,
           0.046,
           0.074,
           0.069,
           0.078,
           0.12,
           0.067,
           0.06,
           0.056,
           0.057,
           0.015,
           0.056,
           0.06,
           0.092,
           0.067,
           0.067,
           0.068,
           0.075,
           0.067,
           0.07,
           0.071,
           0.066,
           0.145,
           0.104,
           0.064,
           0.065,
           0.102,
           0.064,
           0.069,
           0.034,
           0.121,
           0.097,
           0.051,
           0.076,
           0.079,
           0.149,
           0.141,
           0.141,
           0.107,
           0.04,
           0.068,
           0.074,
           0.048,
           0.09,
           0.065,
           0.172,
           0.052,
           0.055,
           0.113,
           0.057,
           0.069,
           0.047,
           0.071,
           0.088,
           0.046,
           0.05,
           0.05,
           0.077,
           0.077,
           0.064,
           0.058,
           0.092,
           0.025,
           0.05,
           0.023,
           0.042,
           0.016,
           0.072,
           0.112,
           0.034,
           0.058,
           0.117,
           0.052,
           0.088,
           0.083,
           0.016,
           0.031,
           0.144,
           0.024,
           0.028,
           0.07,
           0.015,
           0.098,
           0.096,
           0.097,
           0.103,
           0.081,
           0.071,
           0.085,
           0.088,
           0.073,
           0.068,
           0.039,
           0.114,
           0.115,
           0.076,
           0.064,
           0.099,
           0.05,
           0.116,
           0.026,
           0.047
          ],
          "colorbar": {
           "len": 0.5,
           "thickness": 0.02,
           "thicknessmode": "fraction",
           "title": {
            "text": "Energy Above Hull<br>(eV/atom)"
           },
           "x": 0,
           "xpad": 0,
           "y": 1,
           "yanchor": "top",
           "ypad": 0
          },
          "colorscale": [
           [
            0,
            "#fff5e3"
           ],
           [
            0.5,
            "#f24324"
           ],
           [
            1,
            "#c40000"
           ]
          ],
          "line": {
           "color": "black",
           "width": 1
          },
          "opacity": 0.8,
          "size": 7,
          "symbol": "diamond"
         },
         "mode": "markers",
         "name": "Above Hull",
         "showlegend": true,
         "type": "scatterternary"
        }
       ],
       "layout": {
        "autosize": true,
        "coloraxis": {
         "colorbar": {
          "x": 1,
          "y": 0.05,
          "yanchor": "top"
         }
        },
        "margin": {
         "b": 40,
         "l": 20,
         "r": 20,
         "t": 40
        },
        "paper_bgcolor": "rgba(0,0,0,0)",
        "plot_bgcolor": "rgba(0,0,0,0)",
        "showlegend": true,
        "template": {
         "data": {
          "bar": [
           {
            "error_x": {
             "color": "#2a3f5f"
            },
            "error_y": {
             "color": "#2a3f5f"
            },
            "marker": {
             "line": {
              "color": "#E5ECF6",
              "width": 0.5
             },
             "pattern": {
              "fillmode": "overlay",
              "size": 10,
              "solidity": 0.2
             }
            },
            "type": "bar"
           }
          ],
          "barpolar": [
           {
            "marker": {
             "line": {
              "color": "#E5ECF6",
              "width": 0.5
             },
             "pattern": {
              "fillmode": "overlay",
              "size": 10,
              "solidity": 0.2
             }
            },
            "type": "barpolar"
           }
          ],
          "carpet": [
           {
            "aaxis": {
             "endlinecolor": "#2a3f5f",
             "gridcolor": "white",
             "linecolor": "white",
             "minorgridcolor": "white",
             "startlinecolor": "#2a3f5f"
            },
            "baxis": {
             "endlinecolor": "#2a3f5f",
             "gridcolor": "white",
             "linecolor": "white",
             "minorgridcolor": "white",
             "startlinecolor": "#2a3f5f"
            },
            "type": "carpet"
           }
          ],
          "choropleth": [
           {
            "colorbar": {
             "outlinewidth": 0,
             "ticks": ""
            },
            "type": "choropleth"
           }
          ],
          "contour": [
           {
            "colorbar": {
             "outlinewidth": 0,
             "ticks": ""
            },
            "colorscale": [
             [
              0,
              "#0d0887"
             ],
             [
              0.1111111111111111,
              "#46039f"
             ],
             [
              0.2222222222222222,
              "#7201a8"
             ],
             [
              0.3333333333333333,
              "#9c179e"
             ],
             [
              0.4444444444444444,
              "#bd3786"
             ],
             [
              0.5555555555555556,
              "#d8576b"
             ],
             [
              0.6666666666666666,
              "#ed7953"
             ],
             [
              0.7777777777777778,
              "#fb9f3a"
             ],
             [
              0.8888888888888888,
              "#fdca26"
             ],
             [
              1,
              "#f0f921"
             ]
            ],
            "type": "contour"
           }
          ],
          "contourcarpet": [
           {
            "colorbar": {
             "outlinewidth": 0,
             "ticks": ""
            },
            "type": "contourcarpet"
           }
          ],
          "heatmap": [
           {
            "colorbar": {
             "outlinewidth": 0,
             "ticks": ""
            },
            "colorscale": [
             [
              0,
              "#0d0887"
             ],
             [
              0.1111111111111111,
              "#46039f"
             ],
             [
              0.2222222222222222,
              "#7201a8"
             ],
             [
              0.3333333333333333,
              "#9c179e"
             ],
             [
              0.4444444444444444,
              "#bd3786"
             ],
             [
              0.5555555555555556,
              "#d8576b"
             ],
             [
              0.6666666666666666,
              "#ed7953"
             ],
             [
              0.7777777777777778,
              "#fb9f3a"
             ],
             [
              0.8888888888888888,
              "#fdca26"
             ],
             [
              1,
              "#f0f921"
             ]
            ],
            "type": "heatmap"
           }
          ],
          "heatmapgl": [
           {
            "colorbar": {
             "outlinewidth": 0,
             "ticks": ""
            },
            "colorscale": [
             [
              0,
              "#0d0887"
             ],
             [
              0.1111111111111111,
              "#46039f"
             ],
             [
              0.2222222222222222,
              "#7201a8"
             ],
             [
              0.3333333333333333,
              "#9c179e"
             ],
             [
              0.4444444444444444,
              "#bd3786"
             ],
             [
              0.5555555555555556,
              "#d8576b"
             ],
             [
              0.6666666666666666,
              "#ed7953"
             ],
             [
              0.7777777777777778,
              "#fb9f3a"
             ],
             [
              0.8888888888888888,
              "#fdca26"
             ],
             [
              1,
              "#f0f921"
             ]
            ],
            "type": "heatmapgl"
           }
          ],
          "histogram": [
           {
            "marker": {
             "pattern": {
              "fillmode": "overlay",
              "size": 10,
              "solidity": 0.2
             }
            },
            "type": "histogram"
           }
          ],
          "histogram2d": [
           {
            "colorbar": {
             "outlinewidth": 0,
             "ticks": ""
            },
            "colorscale": [
             [
              0,
              "#0d0887"
             ],
             [
              0.1111111111111111,
              "#46039f"
             ],
             [
              0.2222222222222222,
              "#7201a8"
             ],
             [
              0.3333333333333333,
              "#9c179e"
             ],
             [
              0.4444444444444444,
              "#bd3786"
             ],
             [
              0.5555555555555556,
              "#d8576b"
             ],
             [
              0.6666666666666666,
              "#ed7953"
             ],
             [
              0.7777777777777778,
              "#fb9f3a"
             ],
             [
              0.8888888888888888,
              "#fdca26"
             ],
             [
              1,
              "#f0f921"
             ]
            ],
            "type": "histogram2d"
           }
          ],
          "histogram2dcontour": [
           {
            "colorbar": {
             "outlinewidth": 0,
             "ticks": ""
            },
            "colorscale": [
             [
              0,
              "#0d0887"
             ],
             [
              0.1111111111111111,
              "#46039f"
             ],
             [
              0.2222222222222222,
              "#7201a8"
             ],
             [
              0.3333333333333333,
              "#9c179e"
             ],
             [
              0.4444444444444444,
              "#bd3786"
             ],
             [
              0.5555555555555556,
              "#d8576b"
             ],
             [
              0.6666666666666666,
              "#ed7953"
             ],
             [
              0.7777777777777778,
              "#fb9f3a"
             ],
             [
              0.8888888888888888,
              "#fdca26"
             ],
             [
              1,
              "#f0f921"
             ]
            ],
            "type": "histogram2dcontour"
           }
          ],
          "mesh3d": [
           {
            "colorbar": {
             "outlinewidth": 0,
             "ticks": ""
            },
            "type": "mesh3d"
           }
          ],
          "parcoords": [
           {
            "line": {
             "colorbar": {
              "outlinewidth": 0,
              "ticks": ""
             }
            },
            "type": "parcoords"
           }
          ],
          "pie": [
           {
            "automargin": true,
            "type": "pie"
           }
          ],
          "scatter": [
           {
            "fillpattern": {
             "fillmode": "overlay",
             "size": 10,
             "solidity": 0.2
            },
            "type": "scatter"
           }
          ],
          "scatter3d": [
           {
            "line": {
             "colorbar": {
              "outlinewidth": 0,
              "ticks": ""
             }
            },
            "marker": {
             "colorbar": {
              "outlinewidth": 0,
              "ticks": ""
             }
            },
            "type": "scatter3d"
           }
          ],
          "scattercarpet": [
           {
            "marker": {
             "colorbar": {
              "outlinewidth": 0,
              "ticks": ""
             }
            },
            "type": "scattercarpet"
           }
          ],
          "scattergeo": [
           {
            "marker": {
             "colorbar": {
              "outlinewidth": 0,
              "ticks": ""
             }
            },
            "type": "scattergeo"
           }
          ],
          "scattergl": [
           {
            "marker": {
             "colorbar": {
              "outlinewidth": 0,
              "ticks": ""
             }
            },
            "type": "scattergl"
           }
          ],
          "scattermapbox": [
           {
            "marker": {
             "colorbar": {
              "outlinewidth": 0,
              "ticks": ""
             }
            },
            "type": "scattermapbox"
           }
          ],
          "scatterpolar": [
           {
            "marker": {
             "colorbar": {
              "outlinewidth": 0,
              "ticks": ""
             }
            },
            "type": "scatterpolar"
           }
          ],
          "scatterpolargl": [
           {
            "marker": {
             "colorbar": {
              "outlinewidth": 0,
              "ticks": ""
             }
            },
            "type": "scatterpolargl"
           }
          ],
          "scatterternary": [
           {
            "marker": {
             "colorbar": {
              "outlinewidth": 0,
              "ticks": ""
             }
            },
            "type": "scatterternary"
           }
          ],
          "surface": [
           {
            "colorbar": {
             "outlinewidth": 0,
             "ticks": ""
            },
            "colorscale": [
             [
              0,
              "#0d0887"
             ],
             [
              0.1111111111111111,
              "#46039f"
             ],
             [
              0.2222222222222222,
              "#7201a8"
             ],
             [
              0.3333333333333333,
              "#9c179e"
             ],
             [
              0.4444444444444444,
              "#bd3786"
             ],
             [
              0.5555555555555556,
              "#d8576b"
             ],
             [
              0.6666666666666666,
              "#ed7953"
             ],
             [
              0.7777777777777778,
              "#fb9f3a"
             ],
             [
              0.8888888888888888,
              "#fdca26"
             ],
             [
              1,
              "#f0f921"
             ]
            ],
            "type": "surface"
           }
          ],
          "table": [
           {
            "cells": {
             "fill": {
              "color": "#EBF0F8"
             },
             "line": {
              "color": "white"
             }
            },
            "header": {
             "fill": {
              "color": "#C8D4E3"
             },
             "line": {
              "color": "white"
             }
            },
            "type": "table"
           }
          ]
         },
         "layout": {
          "annotationdefaults": {
           "arrowcolor": "#2a3f5f",
           "arrowhead": 0,
           "arrowwidth": 1
          },
          "autotypenumbers": "strict",
          "coloraxis": {
           "colorbar": {
            "outlinewidth": 0,
            "ticks": ""
           }
          },
          "colorscale": {
           "diverging": [
            [
             0,
             "#8e0152"
            ],
            [
             0.1,
             "#c51b7d"
            ],
            [
             0.2,
             "#de77ae"
            ],
            [
             0.3,
             "#f1b6da"
            ],
            [
             0.4,
             "#fde0ef"
            ],
            [
             0.5,
             "#f7f7f7"
            ],
            [
             0.6,
             "#e6f5d0"
            ],
            [
             0.7,
             "#b8e186"
            ],
            [
             0.8,
             "#7fbc41"
            ],
            [
             0.9,
             "#4d9221"
            ],
            [
             1,
             "#276419"
            ]
           ],
           "sequential": [
            [
             0,
             "#0d0887"
            ],
            [
             0.1111111111111111,
             "#46039f"
            ],
            [
             0.2222222222222222,
             "#7201a8"
            ],
            [
             0.3333333333333333,
             "#9c179e"
            ],
            [
             0.4444444444444444,
             "#bd3786"
            ],
            [
             0.5555555555555556,
             "#d8576b"
            ],
            [
             0.6666666666666666,
             "#ed7953"
            ],
            [
             0.7777777777777778,
             "#fb9f3a"
            ],
            [
             0.8888888888888888,
             "#fdca26"
            ],
            [
             1,
             "#f0f921"
            ]
           ],
           "sequentialminus": [
            [
             0,
             "#0d0887"
            ],
            [
             0.1111111111111111,
             "#46039f"
            ],
            [
             0.2222222222222222,
             "#7201a8"
            ],
            [
             0.3333333333333333,
             "#9c179e"
            ],
            [
             0.4444444444444444,
             "#bd3786"
            ],
            [
             0.5555555555555556,
             "#d8576b"
            ],
            [
             0.6666666666666666,
             "#ed7953"
            ],
            [
             0.7777777777777778,
             "#fb9f3a"
            ],
            [
             0.8888888888888888,
             "#fdca26"
            ],
            [
             1,
             "#f0f921"
            ]
           ]
          },
          "colorway": [
           "#636efa",
           "#EF553B",
           "#00cc96",
           "#ab63fa",
           "#FFA15A",
           "#19d3f3",
           "#FF6692",
           "#B6E880",
           "#FF97FF",
           "#FECB52"
          ],
          "font": {
           "color": "#2a3f5f"
          },
          "geo": {
           "bgcolor": "white",
           "lakecolor": "white",
           "landcolor": "#E5ECF6",
           "showlakes": true,
           "showland": true,
           "subunitcolor": "white"
          },
          "hoverlabel": {
           "align": "left"
          },
          "hovermode": "closest",
          "mapbox": {
           "style": "light"
          },
          "paper_bgcolor": "white",
          "plot_bgcolor": "#E5ECF6",
          "polar": {
           "angularaxis": {
            "gridcolor": "white",
            "linecolor": "white",
            "ticks": ""
           },
           "bgcolor": "#E5ECF6",
           "radialaxis": {
            "gridcolor": "white",
            "linecolor": "white",
            "ticks": ""
           }
          },
          "scene": {
           "xaxis": {
            "backgroundcolor": "#E5ECF6",
            "gridcolor": "white",
            "gridwidth": 2,
            "linecolor": "white",
            "showbackground": true,
            "ticks": "",
            "zerolinecolor": "white"
           },
           "yaxis": {
            "backgroundcolor": "#E5ECF6",
            "gridcolor": "white",
            "gridwidth": 2,
            "linecolor": "white",
            "showbackground": true,
            "ticks": "",
            "zerolinecolor": "white"
           },
           "zaxis": {
            "backgroundcolor": "#E5ECF6",
            "gridcolor": "white",
            "gridwidth": 2,
            "linecolor": "white",
            "showbackground": true,
            "ticks": "",
            "zerolinecolor": "white"
           }
          },
          "shapedefaults": {
           "line": {
            "color": "#2a3f5f"
           }
          },
          "ternary": {
           "aaxis": {
            "gridcolor": "white",
            "linecolor": "white",
            "ticks": ""
           },
           "baxis": {
            "gridcolor": "white",
            "linecolor": "white",
            "ticks": ""
           },
           "bgcolor": "#E5ECF6",
           "caxis": {
            "gridcolor": "white",
            "linecolor": "white",
            "ticks": ""
           }
          },
          "title": {
           "x": 0.05
          },
          "xaxis": {
           "automargin": true,
           "gridcolor": "white",
           "linecolor": "white",
           "ticks": "",
           "title": {
            "standoff": 15
           },
           "zerolinecolor": "white",
           "zerolinewidth": 2
          },
          "yaxis": {
           "automargin": true,
           "gridcolor": "white",
           "linecolor": "white",
           "ticks": "",
           "title": {
            "standoff": 15
           },
           "zerolinecolor": "white",
           "zerolinewidth": 2
          }
         }
        },
        "ternary": {
         "aaxis": {
          "layer": "below traces",
          "showgrid": true,
          "showticklabels": true,
          "tickfont": {
           "color": "rgba(0,0,0,0)",
           "size": 7
          },
          "title": {
           "font": {
            "size": 24
           },
           "text": "Li"
          }
         },
         "baxis": {
          "layer": "below traces",
          "min": 0,
          "showgrid": true,
          "showticklabels": true,
          "tickfont": {
           "color": "rgba(0,0,0,0)",
           "size": 7
          },
          "title": {
           "font": {
            "size": 24
           },
           "text": "Fe"
          }
         },
         "caxis": {
          "layer": "below traces",
          "min": 0,
          "showgrid": true,
          "showticklabels": true,
          "tickfont": {
           "color": "rgba(0,0,0,0)",
           "size": 7
          },
          "title": {
           "font": {
            "size": 24
           },
           "text": "O"
          }
         },
         "sum": 1
        }
       }
      }
     },
     "metadata": {},
     "output_type": "display_data"
    }
   ],
   "source": [
    "entries.extend(mp_entries)\n",
    "compat = MaterialsProjectCompatibility()\n",
    "entries = compat.process_entries(entries)\n",
    "\n",
    "pd = PhaseDiagram(entries)\n",
    "plotter = PDPlotter(pd)\n",
    "plotter.show()"
   ]
  },
  {
   "cell_type": "code",
   "execution_count": 14,
   "metadata": {},
   "outputs": [
    {
     "name": "stderr",
     "output_type": "stream",
     "text": [
      "Retrieving MaterialsDoc documents: 100%|██████████| 1/1 [00:00<?, ?it/s]\n"
     ]
    },
    {
     "data": {
      "image/png": "[encoded data removed]",
      "text/plain": [
       "<Figure size 640x480 with 1 Axes>"
      ]
     },
     "metadata": {},
     "output_type": "display_data"
    }
   ],
   "source": [
    "from pymatgen.analysis.adsorption import  *\n",
    "from pymatgen.core.surface import Slab, SlabGenerator, generate_all_slabs\n",
    "from pymatgen.symmetry.analyzer import SpacegroupAnalyzer\n",
    "from pymatgen.core.structure import Structure\n",
    "from pymatgen.ext.matproj import MPRester\n",
    "from matplotlib import pyplot as plt\n",
    "from pymatgen.io.vasp.inputs import Poscar\n",
    "\n",
    "with MPRester(USER_API_KEY) as m:\n",
    "    mp_id = \"mp-81\"\n",
    "    struct = m.get_structure_by_material_id(\"mp-81\")\n",
    "    struct = SpacegroupAnalyzer(struct).get_conventional_standard_structure()\n",
    "    slab = SlabGenerator(struct, (1,1,1), min_slab_size=8.0, min_vacuum_size=15.0, center_slab=True)\n",
    "\n",
    "    for n, slabs in enumerate(slab.get_slabs()):\n",
    "        slabs_bak = slabs.copy()\n",
    "        slabs.make_supercell([[2,0,0],[0,2,0],[0,0,1]])\n",
    "\n",
    "        fig = plt.figure()\n",
    "        ax = fig.add_subplot(111)\n",
    "        plot_slab(slabs, ax, adsorption_sites=True)\n",
    "\n",
    "        plt.savefig(str(n) + '-Au-111.png', dpi=300)\n",
    "        open('POSCAR' + mp_id + '-' + str(n), 'w').write(Poscar(slabs).get_string())\n"
   ]
  },
  {
   "cell_type": "code",
   "execution_count": 20,
   "metadata": {},
   "outputs": [
    {
     "name": "stderr",
     "output_type": "stream",
     "text": [
      "Retrieving MaterialsDoc documents: 100%|██████████| 1/1 [00:00<?, ?it/s]\n"
     ]
    },
    {
     "data": {
      "image/png": "[encoded data removed]",
      "text/plain": [
       "<Figure size 640x480 with 1 Axes>"
      ]
     },
     "metadata": {},
     "output_type": "display_data"
    },
    {
     "data": {
      "image/png": "[encoded data removed]",
      "text/plain": [
       "<Figure size 640x480 with 1 Axes>"
      ]
     },
     "metadata": {},
     "output_type": "display_data"
    }
   ],
   "source": [
    "from pymatgen.analysis.adsorption import  *\n",
    "from pymatgen.core.surface import Slab, SlabGenerator, generate_all_slabs, Structure, Lattice, ReconstructionGenerator\n",
    "from pymatgen.symmetry.analyzer import SpacegroupAnalyzer\n",
    "from pymatgen.core.structure import Structure\n",
    "from pymatgen.ext.matproj import MPRester\n",
    "from matplotlib import pyplot as plt\n",
    "from pymatgen.io.vasp.inputs import Poscar\n",
    "\n",
    "# get the materials id\n",
    "mp_id = \"mp-19017\"\n",
    "# get structure by MP\n",
    "struct = mpr.get_structure_by_material_id(mp_id)\n",
    "# SpacegroupAnalyzer get conventional_standard_structure\n",
    "struct = SpacegroupAnalyzer(struct).get_conventional_standard_structure()\n",
    "# SlabGenerator(structure, miler_index, slab_size, vacuum_size)\n",
    "slab = SlabGenerator(struct,(0, 0, 1), min_slab_size=8.0, min_vacuum_size=15.0, center_slab=True)\n",
    "\n",
    "# slab.get_slabs() 遍历slab每一层 ； bonds = {('P','O'):3} 限制条件：P-O键3埃以内不取该层\n",
    "for n, slabs in enumerate(slab.get_slabs(bonds = {('P','O'):3})):\n",
    "    slabs.make_supercell([[1,0,0],[0,1,0],[0,0,1]])\n",
    "    fig = plt.figure()\n",
    "    ax = fig.add_subplot(111)\n",
    "    plot_slab(slabs, ax, adsorption_sites=True)"
   ]
  }
 ],
 "metadata": {
  "kernelspec": {
   "display_name": "pymatgen",
   "language": "python",
   "name": "python3"
  },
  "language_info": {
   "codemirror_mode": {
    "name": "ipython",
    "version": 3
   },
   "file_extension": ".py",
   "mimetype": "text/x-python",
   "name": "python",
   "nbconvert_exporter": "python",
   "pygments_lexer": "ipython3",
   "version": "3.10.15"
  }
 },
 "nbformat": 4,
 "nbformat_minor": 2
}
