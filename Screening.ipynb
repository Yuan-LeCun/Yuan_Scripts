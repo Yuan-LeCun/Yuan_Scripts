{
 "cells": [
  {
   "cell_type": "code",
   "execution_count": 58,
   "metadata": {},
   "outputs": [
    {
     "name": "stderr",
     "output_type": "stream",
     "text": [
      "[19:19:16] UFFTYPER: Unrecognized charge state for atom: 4\n",
      "[19:19:16] UFFTYPER: Unrecognized charge state for atom: 4\n",
      "[19:19:16] UFFTYPER: Unrecognized charge state for atom: 4\n",
      "[19:19:16] UFFTYPER: Unrecognized charge state for atom: 4\n",
      "[19:19:16] UFFTYPER: Warning: hybridization set to SP3 for atom 4\n",
      "[19:19:16] UFFTYPER: Unrecognized charge state for atom: 4\n",
      "[19:19:16] UFFTYPER: Unrecognized atom type: Pd5+2 (0)\n",
      "[19:19:16] UFFTYPER: Warning: hybridization set to SP3 for atom 4\n",
      "[19:19:16] UFFTYPER: Unrecognized charge state for atom: 4\n",
      "[19:19:16] UFFTYPER: Unrecognized atom type: Pd5+2 (9)\n"
     ]
    }
   ],
   "source": [
    "# 读取smiles_20241012（1）.csv\n",
    "import pandas as pd\n",
    "from rdkit import Chem\n",
    "from rdkit.Chem import AllChem\n",
    "\n",
    "\n",
    "with open('SMI\\smiles_20241012 (1).csv', 'r') as f:\n",
    "    smiles = f.readlines()\n",
    "    smiles = smiles[1:]\n",
    "    screen_smiles = []\n",
    "    select_smiles = []\n",
    "    i = 0\n",
    "\n",
    "    smiles = [i.split('\\n')[0] for i in smiles if '+' not in i and '-' not in i]\n",
    "    \n",
    "    for smile in smiles:\n",
    "        molecule = Chem.MolFromSmiles(smile)\n",
    "        charge = Chem.GetFormalCharge(molecule)\n",
    "        heavyatoms = molecule.GetNumHeavyAtoms()\n",
    "        if charge != 0 or heavyatoms > 20:\n",
    "            continue\n",
    "        screen_smiles.append(smile)\n",
    "\n",
    "        # screen smiles has N Si P Cl Br S\n",
    "        if 'N' in smile or 'Si' in smile or 'P' in smile or 'Cl' in smile:\n",
    "            select_smiles.append(smile)\n",
    "\n",
    "    for smile in select_smiles:\n",
    "        molecule = Chem.MolFromSmiles(smile)\n",
    "        molecule = Chem.AddHs(molecule) # add Hs\n",
    "        AllChem.EmbedMolecule(molecule)\n",
    "        AllChem.UFFOptimizeMolecule(molecule)\n",
    "\n",
    "        with open(f'PDB\\molecule{i}.pdb', 'w') as f:\n",
    "            f.write(Chem.MolToPDBBlock(molecule))\n",
    "            i += 1\n",
    "\n",
    "\n",
    "\n",
    "\n",
    "\n",
    "\n",
    "\n",
    "    \n"
   ]
  }
 ],
 "metadata": {
  "kernelspec": {
   "display_name": "pymatgen",
   "language": "python",
   "name": "python3"
  },
  "language_info": {
   "codemirror_mode": {
    "name": "ipython",
    "version": 3
   },
   "file_extension": ".py",
   "mimetype": "text/x-python",
   "name": "python",
   "nbconvert_exporter": "python",
   "pygments_lexer": "ipython3",
   "version": "3.10.15"
  }
 },
 "nbformat": 4,
 "nbformat_minor": 2
}
