{
 "cells": [
  {
   "cell_type": "code",
   "execution_count": 11,
   "metadata": {},
   "outputs": [
    {
     "name": "stdout",
     "output_type": "stream",
     "text": [
      "CCOC(C)C\n",
      "结果已保存到 extracted_smiles.xlsx\n",
      "CCOC(C)(C)C\n",
      "结果已保存到 extracted_smiles.xlsx\n",
      "程序已结束\n"
     ]
    }
   ],
   "source": [
    "import pandas as pd\n",
    "import xlsxwriter\n",
    "import openpyxl\n",
    "from rdkit import Chem\n",
    "from rdkit.Chem import Draw\n",
    "from rdkit.Chem.Draw.MolDrawing import MolDrawing, DrawingOptions \n",
    "from rdkit.Chem import Descriptors\n",
    "import sys\n",
    "\n",
    "with open('dataset_with_images.xlsx', 'rb') as f:\n",
    "    df = pd.read_excel(f)\n",
    "    df.columns = df.columns.str.strip()  # Strip any leading/trailing spaces from column names\n",
    "    df = df.iloc[:, [0, 2, 3]]\n",
    "\n",
    "def query_dataframe(molecular_formula, molecular_weight):\n",
    "    result = df[(df['Molecular Formula'] == molecular_formula) & (df['Molecular Weight'] == molecular_weight)]\n",
    "    return result\n",
    "\n",
    "while True:\n",
    "    # Prompt user for input\n",
    "    user_input = input(\"请输入分子式和分子重量 (以空格隔开, 输入 'q' 退出): \")\n",
    "    if user_input.lower() == 'q':\n",
    "        print(\"程序已结束\")\n",
    "        break\n",
    "    try:\n",
    "        molecular_formula, molecular_weight = user_input.split()\n",
    "        molecular_weight = float(molecular_weight)\n",
    "    except ValueError:\n",
    "        print(\"输入格式错误，请重新输入\")\n",
    "        continue\n",
    "\n",
    "    # Query the dataframe\n",
    "    result = query_dataframe(molecular_formula, molecular_weight)\n",
    "\n",
    "    # Check if result is not empty\n",
    "    if not result.empty:\n",
    "        # Extract the SMILES\n",
    "        smiles = result.values[0]\n",
    "        smiles = smiles[0]\n",
    "\n",
    "        # Create a new DataFrame with the result\n",
    "        new_df = pd.DataFrame({'SMILES': [smiles], 'Molecular Formula': [molecular_formula], 'Molecular Weight': [molecular_weight]})\n",
    "        \n",
    "        # Save the new DataFrame to a new Excel file, appending if it exists\n",
    "        try:\n",
    "            with pd.ExcelWriter('extracted_smiles.xlsx', engine='openpyxl', mode='a', if_sheet_exists='overlay') as writer:\n",
    "                new_df.to_excel(writer, index=False, header=writer.sheets['Sheet1'].max_row == 0, startrow=writer.sheets['Sheet1'].max_row)\n",
    "        except FileNotFoundError:\n",
    "            with pd.ExcelWriter('extracted_smiles.xlsx', engine='openpyxl', mode='w') as writer:\n",
    "                new_df.to_excel(writer, index=False)\n",
    "                \n",
    "        print(\"结果已保存到 extracted_smiles.xlsx\")\n",
    "    else:\n",
    "        print(\"没有找到匹配的分子式和分子重量\")"
   ]
  }
 ],
 "metadata": {
  "kernelspec": {
   "display_name": "GBML",
   "language": "python",
   "name": "python3"
  },
  "language_info": {
   "codemirror_mode": {
    "name": "ipython",
    "version": 3
   },
   "file_extension": ".py",
   "mimetype": "text/x-python",
   "name": "python",
   "nbconvert_exporter": "python",
   "pygments_lexer": "ipython3",
   "version": "3.10.15"
  }
 },
 "nbformat": 4,
 "nbformat_minor": 2
}
