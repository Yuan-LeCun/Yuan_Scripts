{
 "cells": [
  {
   "cell_type": "code",
   "execution_count": 11,
   "metadata": {},
   "outputs": [],
   "source": [
    "import pubchempy as pcp\n",
    "import pandas as pd\n",
    "import re\n",
    "\n",
    "\n",
    "def get_sbstructure_smiles(cas):\n",
    "    \"\"\"\n",
    "    Get the smiles of the substance with the given CAS number.\n",
    "    :param cas: CAS number of the substance\n",
    "    :return: smiles of the substance\n",
    "    \"\"\"\n",
    "    # Get the CID of the substance with the given CAS number\n",
    "    substance = pcp.get_compounds(cas, 'name')\n",
    "    if len(substance) == 0:\n",
    "        return None\n",
    "    cid = substance[0].cid\n",
    "\n",
    "    # Get the smiles of the substance with the given CID\n",
    "    substance = pcp.Compound.from_cid(cid)\n",
    "    return substance.isomeric_smiles\n",
    "\n",
    "data = pd.read_excel('selected_data_开尔文_筛选后.xlsx')\n",
    "cass = data['CAS'].tolist()\n",
    "for cas in cass:\n",
    "    smile = get_sbstructure_smiles(cas)\n",
    "    data.loc[data['CAS'] == cas, 'SMILES'] = smile\n",
    "\n",
    "data.to_excel('selected_data_with_smiles.xlsx', index=False)\n"
   ]
  }
 ],
 "metadata": {
  "kernelspec": {
   "display_name": "GBML",
   "language": "python",
   "name": "python3"
  },
  "language_info": {
   "codemirror_mode": {
    "name": "ipython",
    "version": 3
   },
   "file_extension": ".py",
   "mimetype": "text/x-python",
   "name": "python",
   "nbconvert_exporter": "python",
   "pygments_lexer": "ipython3",
   "version": "3.10.15"
  }
 },
 "nbformat": 4,
 "nbformat_minor": 2
}
