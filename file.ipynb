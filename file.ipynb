{
 "cells": [
  {
   "cell_type": "code",
   "execution_count": null,
   "metadata": {},
   "outputs": [],
   "source": [
    "import numpy as np\n",
    "import os\n",
    "\n",
    "# 将dump.atom.%step文件中信息进行提取\n",
    "# 仅提取line4(原子数), line6（box_size）,line10及之后的信息（原子的id mol type x y z）\n",
    "# 并将其写入到一个新的csv文件中，最后将所有csv文件名写入到一个txt文件中\n",
    "for step in range(0, 5050000, 50000):\n",
    "    # 读取dump文件 ../dump_data/dump.atom.%step\n",
    "    \n",
    "    with open(f'../dump_atom/dump.atom.{step}', 'r') as f:\n",
    "        lines = f.readlines()\n",
    "    # 提取信息\n",
    "    atoms = int(lines[3])\n",
    "\n",
    "    box1, box2 = (map(float, lines[5].split()[:2]))\n",
    "    boxsizex = box2 - box1\n",
    "    box3, box4 = (map(float, lines[6].split()[:2]))\n",
    "    boxsizey = box4 - box3\n",
    "    box5, box6 = (map(float, lines[7].split()[:2]))\n",
    "    boxsizez = box6 - box5\n",
    "\n",
    "    data = []\n",
    "    for line in lines[9:]:\n",
    "        data.append(list(map(float, line.split())))\n",
    "    \n",
    "    #写入csv文件\n",
    "    np.savetxt(f'atom.{step}.csv', data, fmt='%d %d %d %f %f %f', delimiter=',')\n",
    "    # 写入txt文件\n",
    "    with open('file_list.txt', 'a') as f:\n",
    "        f.write(f'atom.{step}.csv\\n')\n",
    "\n",
    "print('atoms:', atoms, 'boxsizex:', boxsizex, 'boxsizey:', boxsizey, 'boxsizez:', boxsizez, 'data:', len(data))"
   ]
  }
 ],
 "metadata": {
  "kernelspec": {
   "display_name": "gluon",
   "language": "python",
   "name": "python3"
  },
  "language_info": {
   "codemirror_mode": {
    "name": "ipython",
    "version": 3
   },
   "file_extension": ".py",
   "mimetype": "text/x-python",
   "name": "python",
   "nbconvert_exporter": "python",
   "pygments_lexer": "ipython3",
   "version": "3.10.14"
  },
  "orig_nbformat": 4
 },
 "nbformat": 4,
 "nbformat_minor": 2
}
