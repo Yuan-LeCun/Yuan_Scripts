{
 "cells": [
  {
   "cell_type": "code",
   "execution_count": 6,
   "metadata": {},
   "outputs": [],
   "source": [
    "USER_API_KEY = \"SWt9OtcNKRv9RTetLoGPg9MsmQco0o66\""
   ]
  },
  {
   "cell_type": "code",
   "execution_count": 2,
   "metadata": {},
   "outputs": [],
   "source": [
    "from pymatgen.core.surface import Structure, Lattice\n",
    "from pymatgen.analysis.adsorption import *\n",
    "from pymatgen.core.surface import generate_all_slabs\n",
    "from pymatgen.symmetry.analyzer import SpacegroupAnalyzer\n",
    "from matplotlib import pyplot as plt\n",
    "from pymatgen.ext.matproj import MPRester\n",
    "from pymatgen.io.vasp.inputs import Poscar"
   ]
  },
  {
   "cell_type": "code",
   "execution_count": null,
   "metadata": {},
   "outputs": [],
   "source": [
    "# 通过空间群和晶格参数构建类 \n",
    "fcc_ni = Structure.from_spacegroup(\"Fm-3m\", Lattice.cubic(3.5), [\"Ni\",\"Ni\"],[[0,0,0],[0.5,0.5,0.5]])\n",
    "# 晶胞结构自动切面 max_index=1:得到最大的不等价表面如(1, 1, 1) (1, 1, 0) (1, 0, 0)等\n",
    "slabs = generate_all_slabs(fcc_ni, max_index=1, min_slab_size=8, min_vacuum_size=10)\n",
    "ni_111 = [slab for slab in slabs if slab.miller_index==(1,1,1)][0]\n",
    "\n",
    "asf_ni_111 = AdsorbateSiteFinder(ni_111)\n",
    "ads_sites = asf_ni_111.find_adsorption_sites()\n",
    "print(ads_sites)\n",
    "\n",
    "assert len(ads_sites) == 4\n",
    "\n",
    "fig =plt.figure()\n",
    "ax = fig.add_subplot(111)\n",
    "plot_slab(ni_111, ax, adsorption_sites=True)"
   ]
  },
  {
   "cell_type": "code",
   "execution_count": null,
   "metadata": {},
   "outputs": [],
   "source": [
    "fig = plt.figure()\n",
    "ax = fig.add_subplot(111)\n",
    "\n",
    "adsorbate = Molecule(\"H\", [[0, 0, 0]])\n",
    "ads_structs = asf_ni_111.generate_adsorption_structures(adsorbate, repeat=[1, 1, 1])\n",
    "plot_slab(ads_structs[0], ax, adsorption_sites=False)\n",
    "plt.savefig(\"ni_111.png\")"
   ]
  },
  {
   "cell_type": "code",
   "execution_count": null,
   "metadata": {},
   "outputs": [],
   "source": [
    "from pymatgen import Structure, Lattice, Molecule, MPRester, Molecule\n"
   ]
  }
 ],
 "metadata": {
  "kernelspec": {
   "display_name": "pymatgen",
   "language": "python",
   "name": "python3"
  },
  "language_info": {
   "codemirror_mode": {
    "name": "ipython",
    "version": 3
   },
   "file_extension": ".py",
   "mimetype": "text/x-python",
   "name": "python",
   "nbconvert_exporter": "python",
   "pygments_lexer": "ipython3",
   "version": "3.10.15"
  }
 },
 "nbformat": 4,
 "nbformat_minor": 2
}
