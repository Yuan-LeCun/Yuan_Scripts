{
 "cells": [
  {
   "cell_type": "code",
   "execution_count": 26,
   "metadata": {},
   "outputs": [
    {
     "name": "stdout",
     "output_type": "stream",
     "text": [
      "Cl/C(/C(=O)OCC)=N\\NC1C=CC=CC=1\n",
      "P(=O)(O[H])(OP(=O)([O-])OP(=O)([O-])O[H])OC([H])([H])C1([H])C([H])(C([H])([H])C([H])(N2C([H])=NC3=C(N([H])[H])N=C([H])N=C23)O1)O[H].[Na+].[Na+]\n",
      "OC[C@H]1O[C@@H](O[C@@H]2[C@@H](CO)O[C@@H](O[C@@H]3[C@@H](CO)O[C@@H](O[C@H]4[C@@H](CO)O[C@@H](O)[C@@H](O)[C@H]4O)[C@@H](O)[C@H]3O)[C@H](O)[C@H]2O)[C@@H](O)[C@@H](O)[C@@H]1O\n"
     ]
    }
   ],
   "source": [
    "from rdkit import Chem\n",
    "from rdkit.Chem import AllChem\n",
    "import os\n",
    "\n",
    "# 读取SMILES文件\n",
    "with open('smiles.txt', 'r') as file:\n",
    "    smiles = file.read().strip()\n",
    "    smiles = smiles.split('\\n')\n",
    "\n",
    "    for i, smile in enumerate(smiles):\n",
    "        print(smile)\n",
    "\n",
    "        # 将SMILES字符串转换为RDKit分子对象\n",
    "        molecule = Chem.MolFromSmiles(smile)\n",
    "        heavymolecule = molecule.GetNumHeavyAtoms()\n",
    "        # 生成3D坐标\n",
    "        molecule = Chem.AddHs(molecule)\n",
    "        AllChem.EmbedMolecule(molecule)\n",
    "        AllChem.UFFOptimizeMolecule(molecule)\n",
    "\n",
    "        if not os.path.exists('PDB'):\n",
    "            os.makedirs('PDB')\n",
    "\n",
    "        # 将分子对象写入PDB文件\n",
    "        with open(f'PDB/ext_{i}.pdb', 'w') as file:\n",
    "            file.write(Chem.MolToPDBBlock(molecule))\n",
    "\n"
   ]
  }
 ],
 "metadata": {
  "kernelspec": {
   "display_name": "pymatgen",
   "language": "python",
   "name": "python3"
  },
  "language_info": {
   "codemirror_mode": {
    "name": "ipython",
    "version": 3
   },
   "file_extension": ".py",
   "mimetype": "text/x-python",
   "name": "python",
   "nbconvert_exporter": "python",
   "pygments_lexer": "ipython3",
   "version": "3.10.15"
  }
 },
 "nbformat": 4,
 "nbformat_minor": 2
}
