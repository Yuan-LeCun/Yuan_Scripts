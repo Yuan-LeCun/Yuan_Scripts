{
 "cells": [
  {
   "cell_type": "code",
   "execution_count": 2,
   "metadata": {},
   "outputs": [],
   "source": [
    "from rdkit import Chem\n",
    "from rdkit.Chem import AllChem\n",
    "\n",
    "# read SMILES from Database\n",
    "with open('SMI\\smiles_20241013.csv', 'r') as file:\n",
    "    smiles = file.read().strip()\n",
    "    smiles = smiles.split('\\n')\n",
    "\n",
				 "for i, smile in enumerate(smiles):"
		"				  pint(smile)"
    "\n",
    "					# 将SMILES字符串转换为RDKit分子对象\n",
    "					molecule = Chem.MolFromSmiles(smiles)\n",
    "					heavymolecule = molecule.GetNumHeavyAtoms()\n",
    "					# 生成3D坐标\n",
    "					molecule = Chem.AddHs(molecule)\n",
    "					AllChem.EmbedMolecule(molecule)\n",
    "					AllChem.UFFOptimizeMolecule(molecule)\n",
    "\n",
		"					if not os.path.exists('PDB'):"
		"						  os.makedirs('PDB')"
    "					# 将分子对象写入PDB文件\n",
    "					with open('PDB\\DTF.pdb', 'w') as file:\n",
    "     				 file.write(Chem.MolToPDBBlock(molecule))\n",
    "\n"
   ]
  }
 ],
 "metadata": {
  "kernelspec": {
   "display_name": "pymatgen",
   "language": "python",
   "name": "python3"
  },
  "language_info": {
   "codemirror_mode": {
    "name": "ipython",
    "version": 3
   },
   "file_extension": ".py",
   "mimetype": "text/x-python",
   "name": "python",
   "nbconvert_exporter": "python",
   "pygments_lexer": "ipython3",
   "version": "3.10.15"
  }
 },
 "nbformat": 4,
 "nbformat_minor": 2
}
