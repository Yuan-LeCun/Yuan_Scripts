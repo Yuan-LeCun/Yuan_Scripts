{
 "cells": [
  {
   "cell_type": "code",
   "execution_count": 85,
   "metadata": {},
   "outputs": [],
   "source": [
    "import numpy as np\n",
    "import os\n",
    "\n",
    "# 遍历当前文件夹下所有的out文件\n",
    "def get_out_files():\n",
    "    files = os.listdir()\n",
    "    out_files = []\n",
    "    for file in files:\n",
    "        if file.endswith('.out'):\n",
    "            out_files.append(file)\n",
    "    return out_files\n",
    "\n",
    "indexs = []\n",
    "coordinates = []\n",
    "\n",
    "# 读取out文件\n",
    "def read_out_file(file):\n",
    "    with open(file, 'r') as f:\n",
    "        lines = f.readlines()\n",
    "        lines = [line.strip() for line in lines]\n",
    "        # 遍历每一行，如果包含了'Standard orientation' 则记录下标\n",
    "        for i, line in enumerate(lines):\n",
    "            if 'Standard orientation' in line:\n",
    "                indexs.append(i)\n",
    "        for i in range(indexs[-1] + 5, len(lines)):\n",
    "            if '---------------------' in lines[i]:\n",
    "                break\n",
    "            coordinates.append(lines[i])\n",
    "        # C:6 O:8 H:1\n",
    "        with open('out_pdb.pdb', 'w') as f:\n",
    "            for line in coordinates:\n",
    "                line = line.split()\n",
    "                atom_type = line[1]\n",
    "                x, y, z = map(float, line[3:6])\n",
    "                if atom_type == '1':\n",
    "                    f.write(f'HEATATM    {line[0]}  H  UNL     1      {x:.3f}  {y:.3f}  {z:.3f}  1.00  0.00           H\\n')\n",
    "                elif atom_type == '6':\n",
    "                    f.write(f'HEATATM    {line[0]}  C  UNL     1      {x:.3f}  {y:.3f}  {z:.3f}  1.00  0.00           C\\n')\n",
    "                elif atom_type == '8':\n",
    "                    f.write(f'HEATATM    {line[0]}  O  UNL     1      {x:.3f}  {y:.3f}  {z:.3f}  1.00  0.00           O\\n')\n",
    "\n",
    "            \n",
    "\n",
    "\n",
    "\n",
    "\n",
    "read_out_file('DEE.out')\n",
    "\n"
   ]
  }
 ],
 "metadata": {
  "kernelspec": {
   "display_name": "pymatgen",
   "language": "python",
   "name": "python3"
  },
  "language_info": {
   "codemirror_mode": {
    "name": "ipython",
    "version": 3
   },
   "file_extension": ".py",
   "mimetype": "text/x-python",
   "name": "python",
   "nbconvert_exporter": "python",
   "pygments_lexer": "ipython3",
   "version": "3.10.15"
  }
 },
 "nbformat": 4,
 "nbformat_minor": 2
}
