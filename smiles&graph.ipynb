{
 "cells": [
  {
   "cell_type": "code",
   "execution_count": 25,
   "metadata": {},
   "outputs": [],
   "source": [
    "import pandas as pd\n",
    "import xlsxwriter\n",
    "import openpyxl\n",
    "from rdkit import Chem\n",
    "from rdkit.Chem import Draw\n",
    "from rdkit.Chem.Draw.MolDrawing import MolDrawing, DrawingOptions "
   ]
  },
  {
   "cell_type": "code",
   "execution_count": 50,
   "metadata": {},
   "outputs": [
    {
     "name": "stdout",
     "output_type": "stream",
     "text": [
      "    SMILES\n",
      "0     CCOC\n",
      "1  COC(C)C\n",
      "2    CCOCC\n",
      "3    CCCOC\n",
      "4    COCOC\n"
     ]
    }
   ],
   "source": [
    "df = pd.read_excel('ja3c08346_si.xlsx', engine='openpyxl')\n",
    "print(df.head())\n",
    "import os\n",
    "def genereation_images(data):\n",
    "    draw = data.SMILES.tolist()\n",
    "    for i in draw:\n",
    "\n",
    "        mol = Chem.MolFromSmiles(i)\n",
    "        # 如果不存在generation文件夹，则创建\n",
    "        if not os.path.exists('./generation'):\n",
    "            os.makedirs('./generation')\n",
    "        Draw.MolToFile(mol, f'./generation/img{i}.png', size=(150, 100))\n",
    "\n",
    "def load_images(data):\n",
    "    workbook = xlsxwriter.Workbook('dataset_with_images.xlsx')\n",
    "    worksheet = workbook.add_worksheet()\n",
    "    for i, j in enumerate(data.SMILES.tolist()):\n",
    "        worksheet.write(f'A{i+1}', f'{j}')\n",
    "        worksheet.insert_image(f'B{i+1}', f'./generation/img{j}.png')\n",
    "    workbook.close()\n",
    "\n",
    "genereation_images(df)\n",
    "load_images(df)"
   ]
  }
 ],
 "metadata": {
  "kernelspec": {
   "display_name": "GBML",
   "language": "python",
   "name": "python3"
  },
  "language_info": {
   "codemirror_mode": {
    "name": "ipython",
    "version": 3
   },
   "file_extension": ".py",
   "mimetype": "text/x-python",
   "name": "python",
   "nbconvert_exporter": "python",
   "pygments_lexer": "ipython3",
   "version": "3.10.15"
  }
 },
 "nbformat": 4,
 "nbformat_minor": 2
}
