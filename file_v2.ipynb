{
 "cells": [
  {
   "cell_type": "code",
   "execution_count": null,
   "metadata": {},
   "outputs": [
    {
     "name": "stdout",
     "output_type": "stream",
     "text": [
      "atoms: 12068 boxsize: 51.29579774837759 data: 12068\n",
      "atoms: 12068 boxsize: 51.937608083783886 data: 12068\n",
      "atoms: 12068 boxsize: 52.138291908605865 data: 12068\n"
     ]
    }
   ],
   "source": [
    "import numpy as np\n",
    "import os\n",
    "\n",
    "\n",
    "# 将dump.atom.%step文件中信息进行提取\n",
    "# 仅提取line4(原子数), line6（box_size）,line10及之后的信息（原子的id mol type x y z）\n",
    "# 并将其写入到一个新的csv文件中，最后将所有csv文件名写入到一个txt文件中\n",
    "def extract_and_save_data(Temperature, input_dir, output_dir, start=0, end=10000000, step=50000):\n",
    "    for step in range(start, end, step):\n",
    "        with open(os.path.join(input_dir, f'dump.atom{Temperature}.{step}'), 'r') as f:\n",
    "            lines = f.readlines()\n",
    "        # 提取信息\n",
    "        atoms = int(lines[3])\n",
    "\n",
    "        box1, box2 = map(float, lines[5].split()[:2])\n",
    "        boxsize = box2 - box1\n",
    "        \n",
    "        data = []\n",
    "        for line in lines[9:]:\n",
    "            data.append(list(map(float, line.split())))\n",
    "        \n",
    "        # 写入csv文件\n",
    "        if not os.path.exists(output_dir):\n",
    "            os.mkdir(output_dir)\n",
    "        \n",
    "        np.savetxt(os.path.join(output_dir, f'atom{Temperature}.{step}.csv'), data, fmt='%d %d %d %f %f %f', delimiter=',')\n",
    "        \n",
    "        # 写入txt文件\n",
    "        with open(os.path.join(output_dir, 'file_list.txt'), 'a') as f:\n",
    "            f.write(f'atom{Temperature}.{step}.csv\\n')\n",
    "\n",
    "    print('atoms:', atoms, 'boxsize:', boxsize, 'data:', len(data))\n",
    "\n",
    "\n",
    "\n",
    "extract_and_save_data(298, input_dir='dump', output_dir='atom298', start=0, end=10000000, step=50000)\n",
    "extract_and_save_data(338, input_dir='dump', output_dir='atom338', start=0, end=10000000, step=50000)\n",
    "extract_and_save_data(378, input_dir='dump', output_dir='atom378', start=0, end=10000000, step=50000)\n",
    "extract_and_save_data(398, input_dir='dump', output_dir='atom398', start=0, end=10000000, step=50000)"
   ]
  }
 ],
 "metadata": {
  "kernelspec": {
   "display_name": "gluon",
   "language": "python",
   "name": "python3"
  },
  "language_info": {
   "codemirror_mode": {
    "name": "ipython",
    "version": 3
   },
   "file_extension": ".py",
   "mimetype": "text/x-python",
   "name": "python",
   "nbconvert_exporter": "python",
   "pygments_lexer": "ipython3",
   "version": "3.10.14"
  },
  "orig_nbformat": 4
 },
 "nbformat": 4,
 "nbformat_minor": 2
}
